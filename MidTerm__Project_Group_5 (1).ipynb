{
  "nbformat": 4,
  "nbformat_minor": 0,
  "metadata": {
    "colab": {
      "provenance": []
    },
    "kernelspec": {
      "name": "python3",
      "display_name": "Python 3"
    },
    "language_info": {
      "name": "python"
    }
  },
  "cells": [
    {
      "cell_type": "markdown",
      "source": [
        "# **Disease prediction using various algorithms**"
      ],
      "metadata": {
        "id": "xUtJAKp7USUK"
      }
    },
    {
      "cell_type": "code",
      "execution_count": null,
      "metadata": {
        "id": "tL2Va4zy2yZ2"
      },
      "outputs": [],
      "source": [
        "#Importing Libraries\n",
        "import numpy as np\n",
        "import pandas as pd\n",
        "import matplotlib.pyplot as plt\n",
        "import plotly.express as px\n",
        "import seaborn as sns\n",
        "import io\n",
        "from google.colab import files\n",
        "from sklearn.preprocessing import LabelEncoder\n",
        "from sklearn.preprocessing import OneHotEncoder\n",
        "from sklearn.svm import SVC\n",
        "from sklearn.metrics import accuracy_score, confusion_matrix\n",
        "from sklearn.feature_selection import f_regression, SelectKBest\n",
        "from sklearn.tree import DecisionTreeClassifier\n",
        "from sklearn.ensemble import RandomForestClassifier\n",
        "from sklearn.linear_model import LogisticRegression\n",
        "from sklearn import model_selection\n",
        "from sklearn.pipeline import make_pipeline"
      ]
    },
    {
      "cell_type": "code",
      "source": [
        "#Reading the training file\n",
        "uploaded = files.upload()\n",
        "disease_training = pd.read_csv(io.BytesIO(uploaded['Training.csv']))\n",
        "print(disease_training)"
      ],
      "metadata": {
        "id": "btmwtfAbMLMM",
        "colab": {
          "base_uri": "https://localhost:8080/",
          "height": 1000
        },
        "outputId": "9e6605f0-4176-457d-e94d-2ad5e9686765"
      },
      "execution_count": null,
      "outputs": [
        {
          "output_type": "display_data",
          "data": {
            "text/plain": [
              "<IPython.core.display.HTML object>"
            ],
            "text/html": [
              "\n",
              "     <input type=\"file\" id=\"files-4866b7ee-958d-4b27-9eaa-3372aea5a7be\" name=\"files[]\" multiple disabled\n",
              "        style=\"border:none\" />\n",
              "     <output id=\"result-4866b7ee-958d-4b27-9eaa-3372aea5a7be\">\n",
              "      Upload widget is only available when the cell has been executed in the\n",
              "      current browser session. Please rerun this cell to enable.\n",
              "      </output>\n",
              "      <script>// Copyright 2017 Google LLC\n",
              "//\n",
              "// Licensed under the Apache License, Version 2.0 (the \"License\");\n",
              "// you may not use this file except in compliance with the License.\n",
              "// You may obtain a copy of the License at\n",
              "//\n",
              "//      http://www.apache.org/licenses/LICENSE-2.0\n",
              "//\n",
              "// Unless required by applicable law or agreed to in writing, software\n",
              "// distributed under the License is distributed on an \"AS IS\" BASIS,\n",
              "// WITHOUT WARRANTIES OR CONDITIONS OF ANY KIND, either express or implied.\n",
              "// See the License for the specific language governing permissions and\n",
              "// limitations under the License.\n",
              "\n",
              "/**\n",
              " * @fileoverview Helpers for google.colab Python module.\n",
              " */\n",
              "(function(scope) {\n",
              "function span(text, styleAttributes = {}) {\n",
              "  const element = document.createElement('span');\n",
              "  element.textContent = text;\n",
              "  for (const key of Object.keys(styleAttributes)) {\n",
              "    element.style[key] = styleAttributes[key];\n",
              "  }\n",
              "  return element;\n",
              "}\n",
              "\n",
              "// Max number of bytes which will be uploaded at a time.\n",
              "const MAX_PAYLOAD_SIZE = 100 * 1024;\n",
              "\n",
              "function _uploadFiles(inputId, outputId) {\n",
              "  const steps = uploadFilesStep(inputId, outputId);\n",
              "  const outputElement = document.getElementById(outputId);\n",
              "  // Cache steps on the outputElement to make it available for the next call\n",
              "  // to uploadFilesContinue from Python.\n",
              "  outputElement.steps = steps;\n",
              "\n",
              "  return _uploadFilesContinue(outputId);\n",
              "}\n",
              "\n",
              "// This is roughly an async generator (not supported in the browser yet),\n",
              "// where there are multiple asynchronous steps and the Python side is going\n",
              "// to poll for completion of each step.\n",
              "// This uses a Promise to block the python side on completion of each step,\n",
              "// then passes the result of the previous step as the input to the next step.\n",
              "function _uploadFilesContinue(outputId) {\n",
              "  const outputElement = document.getElementById(outputId);\n",
              "  const steps = outputElement.steps;\n",
              "\n",
              "  const next = steps.next(outputElement.lastPromiseValue);\n",
              "  return Promise.resolve(next.value.promise).then((value) => {\n",
              "    // Cache the last promise value to make it available to the next\n",
              "    // step of the generator.\n",
              "    outputElement.lastPromiseValue = value;\n",
              "    return next.value.response;\n",
              "  });\n",
              "}\n",
              "\n",
              "/**\n",
              " * Generator function which is called between each async step of the upload\n",
              " * process.\n",
              " * @param {string} inputId Element ID of the input file picker element.\n",
              " * @param {string} outputId Element ID of the output display.\n",
              " * @return {!Iterable<!Object>} Iterable of next steps.\n",
              " */\n",
              "function* uploadFilesStep(inputId, outputId) {\n",
              "  const inputElement = document.getElementById(inputId);\n",
              "  inputElement.disabled = false;\n",
              "\n",
              "  const outputElement = document.getElementById(outputId);\n",
              "  outputElement.innerHTML = '';\n",
              "\n",
              "  const pickedPromise = new Promise((resolve) => {\n",
              "    inputElement.addEventListener('change', (e) => {\n",
              "      resolve(e.target.files);\n",
              "    });\n",
              "  });\n",
              "\n",
              "  const cancel = document.createElement('button');\n",
              "  inputElement.parentElement.appendChild(cancel);\n",
              "  cancel.textContent = 'Cancel upload';\n",
              "  const cancelPromise = new Promise((resolve) => {\n",
              "    cancel.onclick = () => {\n",
              "      resolve(null);\n",
              "    };\n",
              "  });\n",
              "\n",
              "  // Wait for the user to pick the files.\n",
              "  const files = yield {\n",
              "    promise: Promise.race([pickedPromise, cancelPromise]),\n",
              "    response: {\n",
              "      action: 'starting',\n",
              "    }\n",
              "  };\n",
              "\n",
              "  cancel.remove();\n",
              "\n",
              "  // Disable the input element since further picks are not allowed.\n",
              "  inputElement.disabled = true;\n",
              "\n",
              "  if (!files) {\n",
              "    return {\n",
              "      response: {\n",
              "        action: 'complete',\n",
              "      }\n",
              "    };\n",
              "  }\n",
              "\n",
              "  for (const file of files) {\n",
              "    const li = document.createElement('li');\n",
              "    li.append(span(file.name, {fontWeight: 'bold'}));\n",
              "    li.append(span(\n",
              "        `(${file.type || 'n/a'}) - ${file.size} bytes, ` +\n",
              "        `last modified: ${\n",
              "            file.lastModifiedDate ? file.lastModifiedDate.toLocaleDateString() :\n",
              "                                    'n/a'} - `));\n",
              "    const percent = span('0% done');\n",
              "    li.appendChild(percent);\n",
              "\n",
              "    outputElement.appendChild(li);\n",
              "\n",
              "    const fileDataPromise = new Promise((resolve) => {\n",
              "      const reader = new FileReader();\n",
              "      reader.onload = (e) => {\n",
              "        resolve(e.target.result);\n",
              "      };\n",
              "      reader.readAsArrayBuffer(file);\n",
              "    });\n",
              "    // Wait for the data to be ready.\n",
              "    let fileData = yield {\n",
              "      promise: fileDataPromise,\n",
              "      response: {\n",
              "        action: 'continue',\n",
              "      }\n",
              "    };\n",
              "\n",
              "    // Use a chunked sending to avoid message size limits. See b/62115660.\n",
              "    let position = 0;\n",
              "    do {\n",
              "      const length = Math.min(fileData.byteLength - position, MAX_PAYLOAD_SIZE);\n",
              "      const chunk = new Uint8Array(fileData, position, length);\n",
              "      position += length;\n",
              "\n",
              "      const base64 = btoa(String.fromCharCode.apply(null, chunk));\n",
              "      yield {\n",
              "        response: {\n",
              "          action: 'append',\n",
              "          file: file.name,\n",
              "          data: base64,\n",
              "        },\n",
              "      };\n",
              "\n",
              "      let percentDone = fileData.byteLength === 0 ?\n",
              "          100 :\n",
              "          Math.round((position / fileData.byteLength) * 100);\n",
              "      percent.textContent = `${percentDone}% done`;\n",
              "\n",
              "    } while (position < fileData.byteLength);\n",
              "  }\n",
              "\n",
              "  // All done.\n",
              "  yield {\n",
              "    response: {\n",
              "      action: 'complete',\n",
              "    }\n",
              "  };\n",
              "}\n",
              "\n",
              "scope.google = scope.google || {};\n",
              "scope.google.colab = scope.google.colab || {};\n",
              "scope.google.colab._files = {\n",
              "  _uploadFiles,\n",
              "  _uploadFilesContinue,\n",
              "};\n",
              "})(self);\n",
              "</script> "
            ]
          },
          "metadata": {}
        },
        {
          "output_type": "stream",
          "name": "stdout",
          "text": [
            "Saving Training.csv to Training (6).csv\n",
            "      itching  skin_rash  nodal_skin_eruptions  continuous_sneezing  \\\n",
            "0           1          1                     1                    0   \n",
            "1           0          1                     1                    0   \n",
            "2           1          0                     1                    0   \n",
            "3           1          1                     0                    0   \n",
            "4           1          1                     1                    0   \n",
            "...       ...        ...                   ...                  ...   \n",
            "4915        0          0                     0                    0   \n",
            "4916        0          1                     0                    0   \n",
            "4917        0          0                     0                    0   \n",
            "4918        0          1                     0                    0   \n",
            "4919        0          1                     0                    0   \n",
            "\n",
            "      shivering  chills  joint_pain  stomach_pain  acidity  ulcers_on_tongue  \\\n",
            "0             0       0           0             0        0                 0   \n",
            "1             0       0           0             0        0                 0   \n",
            "2             0       0           0             0        0                 0   \n",
            "3             0       0           0             0        0                 0   \n",
            "4             0       0           0             0        0                 0   \n",
            "...         ...     ...         ...           ...      ...               ...   \n",
            "4915          0       0           0             0        0                 0   \n",
            "4916          0       0           0             0        0                 0   \n",
            "4917          0       0           0             0        0                 0   \n",
            "4918          0       0           1             0        0                 0   \n",
            "4919          0       0           0             0        0                 0   \n",
            "\n",
            "      ...  scurring  skin_peeling  silver_like_dusting  small_dents_in_nails  \\\n",
            "0     ...         0             0                    0                     0   \n",
            "1     ...         0             0                    0                     0   \n",
            "2     ...         0             0                    0                     0   \n",
            "3     ...         0             0                    0                     0   \n",
            "4     ...         0             0                    0                     0   \n",
            "...   ...       ...           ...                  ...                   ...   \n",
            "4915  ...         0             0                    0                     0   \n",
            "4916  ...         1             0                    0                     0   \n",
            "4917  ...         0             0                    0                     0   \n",
            "4918  ...         0             1                    1                     1   \n",
            "4919  ...         0             0                    0                     0   \n",
            "\n",
            "      inflammatory_nails  blister  red_sore_around_nose  yellow_crust_ooze  \\\n",
            "0                      0        0                     0                  0   \n",
            "1                      0        0                     0                  0   \n",
            "2                      0        0                     0                  0   \n",
            "3                      0        0                     0                  0   \n",
            "4                      0        0                     0                  0   \n",
            "...                  ...      ...                   ...                ...   \n",
            "4915                   0        0                     0                  0   \n",
            "4916                   0        0                     0                  0   \n",
            "4917                   0        0                     0                  0   \n",
            "4918                   1        0                     0                  0   \n",
            "4919                   0        1                     1                  1   \n",
            "\n",
            "                                    prognosis  Unnamed: 133  \n",
            "0                            Fungal infection           NaN  \n",
            "1                            Fungal infection           NaN  \n",
            "2                            Fungal infection           NaN  \n",
            "3                            Fungal infection           NaN  \n",
            "4                            Fungal infection           NaN  \n",
            "...                                       ...           ...  \n",
            "4915  (vertigo) Paroymsal  Positional Vertigo           NaN  \n",
            "4916                                     Acne           NaN  \n",
            "4917                  Urinary tract infection           NaN  \n",
            "4918                                Psoriasis           NaN  \n",
            "4919                                 Impetigo           NaN  \n",
            "\n",
            "[4920 rows x 134 columns]\n"
          ]
        }
      ]
    },
    {
      "cell_type": "code",
      "source": [
        "#Reading the testing file\n",
        "uploaded1 = files.upload()\n",
        "disease_testing = pd.read_csv(io.BytesIO(uploaded1['Testing.csv']))\n",
        "print(disease_testing)"
      ],
      "metadata": {
        "id": "eGB5txqcSXd9",
        "colab": {
          "base_uri": "https://localhost:8080/",
          "height": 1000
        },
        "outputId": "5f0a8f15-6757-4d66-f116-72fe041c9cd8"
      },
      "execution_count": null,
      "outputs": [
        {
          "output_type": "display_data",
          "data": {
            "text/plain": [
              "<IPython.core.display.HTML object>"
            ],
            "text/html": [
              "\n",
              "     <input type=\"file\" id=\"files-34b21f7c-a93b-4315-88f4-f126b9584eed\" name=\"files[]\" multiple disabled\n",
              "        style=\"border:none\" />\n",
              "     <output id=\"result-34b21f7c-a93b-4315-88f4-f126b9584eed\">\n",
              "      Upload widget is only available when the cell has been executed in the\n",
              "      current browser session. Please rerun this cell to enable.\n",
              "      </output>\n",
              "      <script>// Copyright 2017 Google LLC\n",
              "//\n",
              "// Licensed under the Apache License, Version 2.0 (the \"License\");\n",
              "// you may not use this file except in compliance with the License.\n",
              "// You may obtain a copy of the License at\n",
              "//\n",
              "//      http://www.apache.org/licenses/LICENSE-2.0\n",
              "//\n",
              "// Unless required by applicable law or agreed to in writing, software\n",
              "// distributed under the License is distributed on an \"AS IS\" BASIS,\n",
              "// WITHOUT WARRANTIES OR CONDITIONS OF ANY KIND, either express or implied.\n",
              "// See the License for the specific language governing permissions and\n",
              "// limitations under the License.\n",
              "\n",
              "/**\n",
              " * @fileoverview Helpers for google.colab Python module.\n",
              " */\n",
              "(function(scope) {\n",
              "function span(text, styleAttributes = {}) {\n",
              "  const element = document.createElement('span');\n",
              "  element.textContent = text;\n",
              "  for (const key of Object.keys(styleAttributes)) {\n",
              "    element.style[key] = styleAttributes[key];\n",
              "  }\n",
              "  return element;\n",
              "}\n",
              "\n",
              "// Max number of bytes which will be uploaded at a time.\n",
              "const MAX_PAYLOAD_SIZE = 100 * 1024;\n",
              "\n",
              "function _uploadFiles(inputId, outputId) {\n",
              "  const steps = uploadFilesStep(inputId, outputId);\n",
              "  const outputElement = document.getElementById(outputId);\n",
              "  // Cache steps on the outputElement to make it available for the next call\n",
              "  // to uploadFilesContinue from Python.\n",
              "  outputElement.steps = steps;\n",
              "\n",
              "  return _uploadFilesContinue(outputId);\n",
              "}\n",
              "\n",
              "// This is roughly an async generator (not supported in the browser yet),\n",
              "// where there are multiple asynchronous steps and the Python side is going\n",
              "// to poll for completion of each step.\n",
              "// This uses a Promise to block the python side on completion of each step,\n",
              "// then passes the result of the previous step as the input to the next step.\n",
              "function _uploadFilesContinue(outputId) {\n",
              "  const outputElement = document.getElementById(outputId);\n",
              "  const steps = outputElement.steps;\n",
              "\n",
              "  const next = steps.next(outputElement.lastPromiseValue);\n",
              "  return Promise.resolve(next.value.promise).then((value) => {\n",
              "    // Cache the last promise value to make it available to the next\n",
              "    // step of the generator.\n",
              "    outputElement.lastPromiseValue = value;\n",
              "    return next.value.response;\n",
              "  });\n",
              "}\n",
              "\n",
              "/**\n",
              " * Generator function which is called between each async step of the upload\n",
              " * process.\n",
              " * @param {string} inputId Element ID of the input file picker element.\n",
              " * @param {string} outputId Element ID of the output display.\n",
              " * @return {!Iterable<!Object>} Iterable of next steps.\n",
              " */\n",
              "function* uploadFilesStep(inputId, outputId) {\n",
              "  const inputElement = document.getElementById(inputId);\n",
              "  inputElement.disabled = false;\n",
              "\n",
              "  const outputElement = document.getElementById(outputId);\n",
              "  outputElement.innerHTML = '';\n",
              "\n",
              "  const pickedPromise = new Promise((resolve) => {\n",
              "    inputElement.addEventListener('change', (e) => {\n",
              "      resolve(e.target.files);\n",
              "    });\n",
              "  });\n",
              "\n",
              "  const cancel = document.createElement('button');\n",
              "  inputElement.parentElement.appendChild(cancel);\n",
              "  cancel.textContent = 'Cancel upload';\n",
              "  const cancelPromise = new Promise((resolve) => {\n",
              "    cancel.onclick = () => {\n",
              "      resolve(null);\n",
              "    };\n",
              "  });\n",
              "\n",
              "  // Wait for the user to pick the files.\n",
              "  const files = yield {\n",
              "    promise: Promise.race([pickedPromise, cancelPromise]),\n",
              "    response: {\n",
              "      action: 'starting',\n",
              "    }\n",
              "  };\n",
              "\n",
              "  cancel.remove();\n",
              "\n",
              "  // Disable the input element since further picks are not allowed.\n",
              "  inputElement.disabled = true;\n",
              "\n",
              "  if (!files) {\n",
              "    return {\n",
              "      response: {\n",
              "        action: 'complete',\n",
              "      }\n",
              "    };\n",
              "  }\n",
              "\n",
              "  for (const file of files) {\n",
              "    const li = document.createElement('li');\n",
              "    li.append(span(file.name, {fontWeight: 'bold'}));\n",
              "    li.append(span(\n",
              "        `(${file.type || 'n/a'}) - ${file.size} bytes, ` +\n",
              "        `last modified: ${\n",
              "            file.lastModifiedDate ? file.lastModifiedDate.toLocaleDateString() :\n",
              "                                    'n/a'} - `));\n",
              "    const percent = span('0% done');\n",
              "    li.appendChild(percent);\n",
              "\n",
              "    outputElement.appendChild(li);\n",
              "\n",
              "    const fileDataPromise = new Promise((resolve) => {\n",
              "      const reader = new FileReader();\n",
              "      reader.onload = (e) => {\n",
              "        resolve(e.target.result);\n",
              "      };\n",
              "      reader.readAsArrayBuffer(file);\n",
              "    });\n",
              "    // Wait for the data to be ready.\n",
              "    let fileData = yield {\n",
              "      promise: fileDataPromise,\n",
              "      response: {\n",
              "        action: 'continue',\n",
              "      }\n",
              "    };\n",
              "\n",
              "    // Use a chunked sending to avoid message size limits. See b/62115660.\n",
              "    let position = 0;\n",
              "    do {\n",
              "      const length = Math.min(fileData.byteLength - position, MAX_PAYLOAD_SIZE);\n",
              "      const chunk = new Uint8Array(fileData, position, length);\n",
              "      position += length;\n",
              "\n",
              "      const base64 = btoa(String.fromCharCode.apply(null, chunk));\n",
              "      yield {\n",
              "        response: {\n",
              "          action: 'append',\n",
              "          file: file.name,\n",
              "          data: base64,\n",
              "        },\n",
              "      };\n",
              "\n",
              "      let percentDone = fileData.byteLength === 0 ?\n",
              "          100 :\n",
              "          Math.round((position / fileData.byteLength) * 100);\n",
              "      percent.textContent = `${percentDone}% done`;\n",
              "\n",
              "    } while (position < fileData.byteLength);\n",
              "  }\n",
              "\n",
              "  // All done.\n",
              "  yield {\n",
              "    response: {\n",
              "      action: 'complete',\n",
              "    }\n",
              "  };\n",
              "}\n",
              "\n",
              "scope.google = scope.google || {};\n",
              "scope.google.colab = scope.google.colab || {};\n",
              "scope.google.colab._files = {\n",
              "  _uploadFiles,\n",
              "  _uploadFilesContinue,\n",
              "};\n",
              "})(self);\n",
              "</script> "
            ]
          },
          "metadata": {}
        },
        {
          "output_type": "stream",
          "name": "stdout",
          "text": [
            "Saving Testing.csv to Testing (6).csv\n",
            "    itching  skin_rash  nodal_skin_eruptions  continuous_sneezing  shivering  \\\n",
            "0         1          1                     1                    0          0   \n",
            "1         0          0                     0                    1          1   \n",
            "2         0          0                     0                    0          0   \n",
            "3         1          0                     0                    0          0   \n",
            "4         1          1                     0                    0          0   \n",
            "5         0          0                     0                    0          0   \n",
            "6         0          0                     0                    0          0   \n",
            "7         0          0                     0                    0          0   \n",
            "8         0          0                     0                    0          0   \n",
            "9         0          0                     0                    0          0   \n",
            "10        0          0                     0                    0          0   \n",
            "11        0          0                     0                    0          0   \n",
            "12        0          0                     0                    0          0   \n",
            "13        0          0                     0                    0          0   \n",
            "14        1          0                     0                    0          0   \n",
            "15        0          0                     0                    0          0   \n",
            "16        1          1                     0                    0          0   \n",
            "17        0          1                     0                    0          0   \n",
            "18        0          0                     0                    0          0   \n",
            "19        0          0                     0                    0          0   \n",
            "20        1          0                     0                    0          0   \n",
            "21        0          0                     0                    0          0   \n",
            "22        0          0                     0                    0          0   \n",
            "23        0          0                     0                    0          0   \n",
            "24        0          0                     0                    0          0   \n",
            "25        0          0                     0                    0          0   \n",
            "26        0          0                     0                    1          0   \n",
            "27        0          0                     0                    0          0   \n",
            "28        0          0                     0                    0          0   \n",
            "29        0          0                     0                    0          0   \n",
            "30        0          0                     0                    0          0   \n",
            "31        0          0                     0                    0          0   \n",
            "32        0          0                     0                    0          0   \n",
            "33        0          0                     0                    0          0   \n",
            "34        0          0                     0                    0          0   \n",
            "35        0          0                     0                    0          0   \n",
            "36        0          0                     0                    0          0   \n",
            "37        0          1                     0                    0          0   \n",
            "38        0          0                     0                    0          0   \n",
            "39        0          1                     0                    0          0   \n",
            "40        0          1                     0                    0          0   \n",
            "41        1          1                     0                    0          0   \n",
            "\n",
            "    chills  joint_pain  stomach_pain  acidity  ulcers_on_tongue  ...  \\\n",
            "0        0           0             0        0                 0  ...   \n",
            "1        1           0             0        0                 0  ...   \n",
            "2        0           0             1        1                 1  ...   \n",
            "3        0           0             0        0                 0  ...   \n",
            "4        0           0             1        0                 0  ...   \n",
            "5        0           0             0        0                 0  ...   \n",
            "6        0           0             0        0                 0  ...   \n",
            "7        0           0             0        0                 0  ...   \n",
            "8        0           0             0        0                 0  ...   \n",
            "9        0           0             0        0                 0  ...   \n",
            "10       0           0             0        0                 0  ...   \n",
            "11       0           0             0        1                 0  ...   \n",
            "12       0           0             0        0                 0  ...   \n",
            "13       0           0             0        0                 0  ...   \n",
            "14       0           0             0        0                 0  ...   \n",
            "15       1           0             0        0                 0  ...   \n",
            "16       0           0             0        0                 0  ...   \n",
            "17       1           1             0        0                 0  ...   \n",
            "18       1           0             0        0                 0  ...   \n",
            "19       0           1             0        0                 0  ...   \n",
            "20       0           0             0        0                 0  ...   \n",
            "21       0           0             0        0                 0  ...   \n",
            "22       0           1             0        0                 0  ...   \n",
            "23       0           1             0        0                 0  ...   \n",
            "24       0           0             0        0                 0  ...   \n",
            "25       1           0             0        0                 0  ...   \n",
            "26       1           0             0        0                 0  ...   \n",
            "27       1           0             0        0                 0  ...   \n",
            "28       0           0             0        0                 0  ...   \n",
            "29       0           0             0        0                 0  ...   \n",
            "30       0           0             0        0                 0  ...   \n",
            "31       0           0             0        0                 0  ...   \n",
            "32       0           0             0        0                 0  ...   \n",
            "33       0           0             0        0                 0  ...   \n",
            "34       0           1             0        0                 0  ...   \n",
            "35       0           0             0        0                 0  ...   \n",
            "36       0           0             0        0                 0  ...   \n",
            "37       0           0             0        0                 0  ...   \n",
            "38       0           0             0        0                 0  ...   \n",
            "39       0           1             0        0                 0  ...   \n",
            "40       0           0             0        0                 0  ...   \n",
            "41       0           0             0        0                 0  ...   \n",
            "\n",
            "    blackheads  scurring  skin_peeling  silver_like_dusting  \\\n",
            "0            0         0             0                    0   \n",
            "1            0         0             0                    0   \n",
            "2            0         0             0                    0   \n",
            "3            0         0             0                    0   \n",
            "4            0         0             0                    0   \n",
            "5            0         0             0                    0   \n",
            "6            0         0             0                    0   \n",
            "7            0         0             0                    0   \n",
            "8            0         0             0                    0   \n",
            "9            0         0             0                    0   \n",
            "10           0         0             0                    0   \n",
            "11           0         0             0                    0   \n",
            "12           0         0             0                    0   \n",
            "13           0         0             0                    0   \n",
            "14           0         0             0                    0   \n",
            "15           0         0             0                    0   \n",
            "16           0         0             0                    0   \n",
            "17           0         0             0                    0   \n",
            "18           0         0             0                    0   \n",
            "19           0         0             0                    0   \n",
            "20           0         0             0                    0   \n",
            "21           0         0             0                    0   \n",
            "22           0         0             0                    0   \n",
            "23           0         0             0                    0   \n",
            "24           0         0             0                    0   \n",
            "25           0         0             0                    0   \n",
            "26           0         0             0                    0   \n",
            "27           0         0             0                    0   \n",
            "28           0         0             0                    0   \n",
            "29           0         0             0                    0   \n",
            "30           0         0             0                    0   \n",
            "31           0         0             0                    0   \n",
            "32           0         0             0                    0   \n",
            "33           0         0             0                    0   \n",
            "34           0         0             0                    0   \n",
            "35           0         0             0                    0   \n",
            "36           0         0             0                    0   \n",
            "37           1         1             0                    0   \n",
            "38           0         0             0                    0   \n",
            "39           0         0             1                    1   \n",
            "40           0         0             0                    0   \n",
            "41           0         0             1                    0   \n",
            "\n",
            "    small_dents_in_nails  inflammatory_nails  blister  red_sore_around_nose  \\\n",
            "0                      0                   0        0                     0   \n",
            "1                      0                   0        0                     0   \n",
            "2                      0                   0        0                     0   \n",
            "3                      0                   0        0                     0   \n",
            "4                      0                   0        0                     0   \n",
            "5                      0                   0        0                     0   \n",
            "6                      0                   0        0                     0   \n",
            "7                      0                   0        0                     0   \n",
            "8                      0                   0        0                     0   \n",
            "9                      0                   0        0                     0   \n",
            "10                     0                   0        0                     0   \n",
            "11                     0                   0        0                     0   \n",
            "12                     0                   0        0                     0   \n",
            "13                     0                   0        0                     0   \n",
            "14                     0                   0        0                     0   \n",
            "15                     0                   0        0                     0   \n",
            "16                     0                   0        0                     0   \n",
            "17                     0                   0        0                     0   \n",
            "18                     0                   0        0                     0   \n",
            "19                     0                   0        0                     0   \n",
            "20                     0                   0        0                     0   \n",
            "21                     0                   0        0                     0   \n",
            "22                     0                   0        0                     0   \n",
            "23                     0                   0        0                     0   \n",
            "24                     0                   0        0                     0   \n",
            "25                     0                   0        0                     0   \n",
            "26                     0                   0        0                     0   \n",
            "27                     0                   0        0                     0   \n",
            "28                     0                   0        0                     0   \n",
            "29                     0                   0        0                     0   \n",
            "30                     0                   0        0                     0   \n",
            "31                     0                   0        0                     0   \n",
            "32                     0                   0        0                     0   \n",
            "33                     0                   0        0                     0   \n",
            "34                     0                   0        0                     0   \n",
            "35                     0                   0        0                     0   \n",
            "36                     0                   0        0                     0   \n",
            "37                     0                   0        0                     0   \n",
            "38                     0                   0        0                     0   \n",
            "39                     1                   1        0                     0   \n",
            "40                     0                   0        1                     1   \n",
            "41                     0                   0        0                     1   \n",
            "\n",
            "    yellow_crust_ooze                                prognosis  \n",
            "0                   0                         Fungal infection  \n",
            "1                   0                                  Allergy  \n",
            "2                   0                                     GERD  \n",
            "3                   0                      Chronic cholestasis  \n",
            "4                   0                            Drug Reaction  \n",
            "5                   0                      Peptic ulcer diseae  \n",
            "6                   0                                     AIDS  \n",
            "7                   0                                Diabetes   \n",
            "8                   0                          Gastroenteritis  \n",
            "9                   0                         Bronchial Asthma  \n",
            "10                  0                            Hypertension   \n",
            "11                  0                                 Migraine  \n",
            "12                  0                     Cervical spondylosis  \n",
            "13                  0             Paralysis (brain hemorrhage)  \n",
            "14                  0                                 Jaundice  \n",
            "15                  0                                  Malaria  \n",
            "16                  0                              Chicken pox  \n",
            "17                  0                                   Dengue  \n",
            "18                  0                                  Typhoid  \n",
            "19                  0                              hepatitis A  \n",
            "20                  0                              Hepatitis B  \n",
            "21                  0                              Hepatitis C  \n",
            "22                  0                              Hepatitis D  \n",
            "23                  0                              Hepatitis E  \n",
            "24                  0                      Alcoholic hepatitis  \n",
            "25                  0                             Tuberculosis  \n",
            "26                  0                              Common Cold  \n",
            "27                  0                                Pneumonia  \n",
            "28                  0             Dimorphic hemmorhoids(piles)  \n",
            "29                  0                             Heart attack  \n",
            "30                  0                           Varicose veins  \n",
            "31                  0                           Hypothyroidism  \n",
            "32                  0                          Hyperthyroidism  \n",
            "33                  0                             Hypoglycemia  \n",
            "34                  0                          Osteoarthristis  \n",
            "35                  0                                Arthritis  \n",
            "36                  0  (vertigo) Paroymsal  Positional Vertigo  \n",
            "37                  0                                     Acne  \n",
            "38                  0                  Urinary tract infection  \n",
            "39                  0                                Psoriasis  \n",
            "40                  1                                 Impetigo  \n",
            "41                  0                         Fungal infection  \n",
            "\n",
            "[42 rows x 133 columns]\n"
          ]
        }
      ]
    },
    {
      "cell_type": "code",
      "source": [
        "#Cleaning the data\n",
        "disease_training = disease_training.drop(\"Unnamed: 133\",axis=1)\n",
        "disease_training"
      ],
      "metadata": {
        "id": "oKn-sj7_O3rx",
        "colab": {
          "base_uri": "https://localhost:8080/",
          "height": 661
        },
        "outputId": "ef260bcc-8f55-4c8c-c90e-cb38b21be0fb"
      },
      "execution_count": null,
      "outputs": [
        {
          "output_type": "execute_result",
          "data": {
            "text/plain": [
              "      itching  skin_rash  nodal_skin_eruptions  continuous_sneezing  \\\n",
              "0           1          1                     1                    0   \n",
              "1           0          1                     1                    0   \n",
              "2           1          0                     1                    0   \n",
              "3           1          1                     0                    0   \n",
              "4           1          1                     1                    0   \n",
              "...       ...        ...                   ...                  ...   \n",
              "4915        0          0                     0                    0   \n",
              "4916        0          1                     0                    0   \n",
              "4917        0          0                     0                    0   \n",
              "4918        0          1                     0                    0   \n",
              "4919        0          1                     0                    0   \n",
              "\n",
              "      shivering  chills  joint_pain  stomach_pain  acidity  ulcers_on_tongue  \\\n",
              "0             0       0           0             0        0                 0   \n",
              "1             0       0           0             0        0                 0   \n",
              "2             0       0           0             0        0                 0   \n",
              "3             0       0           0             0        0                 0   \n",
              "4             0       0           0             0        0                 0   \n",
              "...         ...     ...         ...           ...      ...               ...   \n",
              "4915          0       0           0             0        0                 0   \n",
              "4916          0       0           0             0        0                 0   \n",
              "4917          0       0           0             0        0                 0   \n",
              "4918          0       0           1             0        0                 0   \n",
              "4919          0       0           0             0        0                 0   \n",
              "\n",
              "      ...  blackheads  scurring  skin_peeling  silver_like_dusting  \\\n",
              "0     ...           0         0             0                    0   \n",
              "1     ...           0         0             0                    0   \n",
              "2     ...           0         0             0                    0   \n",
              "3     ...           0         0             0                    0   \n",
              "4     ...           0         0             0                    0   \n",
              "...   ...         ...       ...           ...                  ...   \n",
              "4915  ...           0         0             0                    0   \n",
              "4916  ...           1         1             0                    0   \n",
              "4917  ...           0         0             0                    0   \n",
              "4918  ...           0         0             1                    1   \n",
              "4919  ...           0         0             0                    0   \n",
              "\n",
              "      small_dents_in_nails  inflammatory_nails  blister  red_sore_around_nose  \\\n",
              "0                        0                   0        0                     0   \n",
              "1                        0                   0        0                     0   \n",
              "2                        0                   0        0                     0   \n",
              "3                        0                   0        0                     0   \n",
              "4                        0                   0        0                     0   \n",
              "...                    ...                 ...      ...                   ...   \n",
              "4915                     0                   0        0                     0   \n",
              "4916                     0                   0        0                     0   \n",
              "4917                     0                   0        0                     0   \n",
              "4918                     1                   1        0                     0   \n",
              "4919                     0                   0        1                     1   \n",
              "\n",
              "      yellow_crust_ooze                                prognosis  \n",
              "0                     0                         Fungal infection  \n",
              "1                     0                         Fungal infection  \n",
              "2                     0                         Fungal infection  \n",
              "3                     0                         Fungal infection  \n",
              "4                     0                         Fungal infection  \n",
              "...                 ...                                      ...  \n",
              "4915                  0  (vertigo) Paroymsal  Positional Vertigo  \n",
              "4916                  0                                     Acne  \n",
              "4917                  0                  Urinary tract infection  \n",
              "4918                  0                                Psoriasis  \n",
              "4919                  1                                 Impetigo  \n",
              "\n",
              "[4920 rows x 133 columns]"
            ],
            "text/html": [
              "\n",
              "  <div id=\"df-84a1a692-add2-425b-8593-46d4e8d2195f\">\n",
              "    <div class=\"colab-df-container\">\n",
              "      <div>\n",
              "<style scoped>\n",
              "    .dataframe tbody tr th:only-of-type {\n",
              "        vertical-align: middle;\n",
              "    }\n",
              "\n",
              "    .dataframe tbody tr th {\n",
              "        vertical-align: top;\n",
              "    }\n",
              "\n",
              "    .dataframe thead th {\n",
              "        text-align: right;\n",
              "    }\n",
              "</style>\n",
              "<table border=\"1\" class=\"dataframe\">\n",
              "  <thead>\n",
              "    <tr style=\"text-align: right;\">\n",
              "      <th></th>\n",
              "      <th>itching</th>\n",
              "      <th>skin_rash</th>\n",
              "      <th>nodal_skin_eruptions</th>\n",
              "      <th>continuous_sneezing</th>\n",
              "      <th>shivering</th>\n",
              "      <th>chills</th>\n",
              "      <th>joint_pain</th>\n",
              "      <th>stomach_pain</th>\n",
              "      <th>acidity</th>\n",
              "      <th>ulcers_on_tongue</th>\n",
              "      <th>...</th>\n",
              "      <th>blackheads</th>\n",
              "      <th>scurring</th>\n",
              "      <th>skin_peeling</th>\n",
              "      <th>silver_like_dusting</th>\n",
              "      <th>small_dents_in_nails</th>\n",
              "      <th>inflammatory_nails</th>\n",
              "      <th>blister</th>\n",
              "      <th>red_sore_around_nose</th>\n",
              "      <th>yellow_crust_ooze</th>\n",
              "      <th>prognosis</th>\n",
              "    </tr>\n",
              "  </thead>\n",
              "  <tbody>\n",
              "    <tr>\n",
              "      <th>0</th>\n",
              "      <td>1</td>\n",
              "      <td>1</td>\n",
              "      <td>1</td>\n",
              "      <td>0</td>\n",
              "      <td>0</td>\n",
              "      <td>0</td>\n",
              "      <td>0</td>\n",
              "      <td>0</td>\n",
              "      <td>0</td>\n",
              "      <td>0</td>\n",
              "      <td>...</td>\n",
              "      <td>0</td>\n",
              "      <td>0</td>\n",
              "      <td>0</td>\n",
              "      <td>0</td>\n",
              "      <td>0</td>\n",
              "      <td>0</td>\n",
              "      <td>0</td>\n",
              "      <td>0</td>\n",
              "      <td>0</td>\n",
              "      <td>Fungal infection</td>\n",
              "    </tr>\n",
              "    <tr>\n",
              "      <th>1</th>\n",
              "      <td>0</td>\n",
              "      <td>1</td>\n",
              "      <td>1</td>\n",
              "      <td>0</td>\n",
              "      <td>0</td>\n",
              "      <td>0</td>\n",
              "      <td>0</td>\n",
              "      <td>0</td>\n",
              "      <td>0</td>\n",
              "      <td>0</td>\n",
              "      <td>...</td>\n",
              "      <td>0</td>\n",
              "      <td>0</td>\n",
              "      <td>0</td>\n",
              "      <td>0</td>\n",
              "      <td>0</td>\n",
              "      <td>0</td>\n",
              "      <td>0</td>\n",
              "      <td>0</td>\n",
              "      <td>0</td>\n",
              "      <td>Fungal infection</td>\n",
              "    </tr>\n",
              "    <tr>\n",
              "      <th>2</th>\n",
              "      <td>1</td>\n",
              "      <td>0</td>\n",
              "      <td>1</td>\n",
              "      <td>0</td>\n",
              "      <td>0</td>\n",
              "      <td>0</td>\n",
              "      <td>0</td>\n",
              "      <td>0</td>\n",
              "      <td>0</td>\n",
              "      <td>0</td>\n",
              "      <td>...</td>\n",
              "      <td>0</td>\n",
              "      <td>0</td>\n",
              "      <td>0</td>\n",
              "      <td>0</td>\n",
              "      <td>0</td>\n",
              "      <td>0</td>\n",
              "      <td>0</td>\n",
              "      <td>0</td>\n",
              "      <td>0</td>\n",
              "      <td>Fungal infection</td>\n",
              "    </tr>\n",
              "    <tr>\n",
              "      <th>3</th>\n",
              "      <td>1</td>\n",
              "      <td>1</td>\n",
              "      <td>0</td>\n",
              "      <td>0</td>\n",
              "      <td>0</td>\n",
              "      <td>0</td>\n",
              "      <td>0</td>\n",
              "      <td>0</td>\n",
              "      <td>0</td>\n",
              "      <td>0</td>\n",
              "      <td>...</td>\n",
              "      <td>0</td>\n",
              "      <td>0</td>\n",
              "      <td>0</td>\n",
              "      <td>0</td>\n",
              "      <td>0</td>\n",
              "      <td>0</td>\n",
              "      <td>0</td>\n",
              "      <td>0</td>\n",
              "      <td>0</td>\n",
              "      <td>Fungal infection</td>\n",
              "    </tr>\n",
              "    <tr>\n",
              "      <th>4</th>\n",
              "      <td>1</td>\n",
              "      <td>1</td>\n",
              "      <td>1</td>\n",
              "      <td>0</td>\n",
              "      <td>0</td>\n",
              "      <td>0</td>\n",
              "      <td>0</td>\n",
              "      <td>0</td>\n",
              "      <td>0</td>\n",
              "      <td>0</td>\n",
              "      <td>...</td>\n",
              "      <td>0</td>\n",
              "      <td>0</td>\n",
              "      <td>0</td>\n",
              "      <td>0</td>\n",
              "      <td>0</td>\n",
              "      <td>0</td>\n",
              "      <td>0</td>\n",
              "      <td>0</td>\n",
              "      <td>0</td>\n",
              "      <td>Fungal infection</td>\n",
              "    </tr>\n",
              "    <tr>\n",
              "      <th>...</th>\n",
              "      <td>...</td>\n",
              "      <td>...</td>\n",
              "      <td>...</td>\n",
              "      <td>...</td>\n",
              "      <td>...</td>\n",
              "      <td>...</td>\n",
              "      <td>...</td>\n",
              "      <td>...</td>\n",
              "      <td>...</td>\n",
              "      <td>...</td>\n",
              "      <td>...</td>\n",
              "      <td>...</td>\n",
              "      <td>...</td>\n",
              "      <td>...</td>\n",
              "      <td>...</td>\n",
              "      <td>...</td>\n",
              "      <td>...</td>\n",
              "      <td>...</td>\n",
              "      <td>...</td>\n",
              "      <td>...</td>\n",
              "      <td>...</td>\n",
              "    </tr>\n",
              "    <tr>\n",
              "      <th>4915</th>\n",
              "      <td>0</td>\n",
              "      <td>0</td>\n",
              "      <td>0</td>\n",
              "      <td>0</td>\n",
              "      <td>0</td>\n",
              "      <td>0</td>\n",
              "      <td>0</td>\n",
              "      <td>0</td>\n",
              "      <td>0</td>\n",
              "      <td>0</td>\n",
              "      <td>...</td>\n",
              "      <td>0</td>\n",
              "      <td>0</td>\n",
              "      <td>0</td>\n",
              "      <td>0</td>\n",
              "      <td>0</td>\n",
              "      <td>0</td>\n",
              "      <td>0</td>\n",
              "      <td>0</td>\n",
              "      <td>0</td>\n",
              "      <td>(vertigo) Paroymsal  Positional Vertigo</td>\n",
              "    </tr>\n",
              "    <tr>\n",
              "      <th>4916</th>\n",
              "      <td>0</td>\n",
              "      <td>1</td>\n",
              "      <td>0</td>\n",
              "      <td>0</td>\n",
              "      <td>0</td>\n",
              "      <td>0</td>\n",
              "      <td>0</td>\n",
              "      <td>0</td>\n",
              "      <td>0</td>\n",
              "      <td>0</td>\n",
              "      <td>...</td>\n",
              "      <td>1</td>\n",
              "      <td>1</td>\n",
              "      <td>0</td>\n",
              "      <td>0</td>\n",
              "      <td>0</td>\n",
              "      <td>0</td>\n",
              "      <td>0</td>\n",
              "      <td>0</td>\n",
              "      <td>0</td>\n",
              "      <td>Acne</td>\n",
              "    </tr>\n",
              "    <tr>\n",
              "      <th>4917</th>\n",
              "      <td>0</td>\n",
              "      <td>0</td>\n",
              "      <td>0</td>\n",
              "      <td>0</td>\n",
              "      <td>0</td>\n",
              "      <td>0</td>\n",
              "      <td>0</td>\n",
              "      <td>0</td>\n",
              "      <td>0</td>\n",
              "      <td>0</td>\n",
              "      <td>...</td>\n",
              "      <td>0</td>\n",
              "      <td>0</td>\n",
              "      <td>0</td>\n",
              "      <td>0</td>\n",
              "      <td>0</td>\n",
              "      <td>0</td>\n",
              "      <td>0</td>\n",
              "      <td>0</td>\n",
              "      <td>0</td>\n",
              "      <td>Urinary tract infection</td>\n",
              "    </tr>\n",
              "    <tr>\n",
              "      <th>4918</th>\n",
              "      <td>0</td>\n",
              "      <td>1</td>\n",
              "      <td>0</td>\n",
              "      <td>0</td>\n",
              "      <td>0</td>\n",
              "      <td>0</td>\n",
              "      <td>1</td>\n",
              "      <td>0</td>\n",
              "      <td>0</td>\n",
              "      <td>0</td>\n",
              "      <td>...</td>\n",
              "      <td>0</td>\n",
              "      <td>0</td>\n",
              "      <td>1</td>\n",
              "      <td>1</td>\n",
              "      <td>1</td>\n",
              "      <td>1</td>\n",
              "      <td>0</td>\n",
              "      <td>0</td>\n",
              "      <td>0</td>\n",
              "      <td>Psoriasis</td>\n",
              "    </tr>\n",
              "    <tr>\n",
              "      <th>4919</th>\n",
              "      <td>0</td>\n",
              "      <td>1</td>\n",
              "      <td>0</td>\n",
              "      <td>0</td>\n",
              "      <td>0</td>\n",
              "      <td>0</td>\n",
              "      <td>0</td>\n",
              "      <td>0</td>\n",
              "      <td>0</td>\n",
              "      <td>0</td>\n",
              "      <td>...</td>\n",
              "      <td>0</td>\n",
              "      <td>0</td>\n",
              "      <td>0</td>\n",
              "      <td>0</td>\n",
              "      <td>0</td>\n",
              "      <td>0</td>\n",
              "      <td>1</td>\n",
              "      <td>1</td>\n",
              "      <td>1</td>\n",
              "      <td>Impetigo</td>\n",
              "    </tr>\n",
              "  </tbody>\n",
              "</table>\n",
              "<p>4920 rows × 133 columns</p>\n",
              "</div>\n",
              "      <button class=\"colab-df-convert\" onclick=\"convertToInteractive('df-84a1a692-add2-425b-8593-46d4e8d2195f')\"\n",
              "              title=\"Convert this dataframe to an interactive table.\"\n",
              "              style=\"display:none;\">\n",
              "        \n",
              "  <svg xmlns=\"http://www.w3.org/2000/svg\" height=\"24px\"viewBox=\"0 0 24 24\"\n",
              "       width=\"24px\">\n",
              "    <path d=\"M0 0h24v24H0V0z\" fill=\"none\"/>\n",
              "    <path d=\"M18.56 5.44l.94 2.06.94-2.06 2.06-.94-2.06-.94-.94-2.06-.94 2.06-2.06.94zm-11 1L8.5 8.5l.94-2.06 2.06-.94-2.06-.94L8.5 2.5l-.94 2.06-2.06.94zm10 10l.94 2.06.94-2.06 2.06-.94-2.06-.94-.94-2.06-.94 2.06-2.06.94z\"/><path d=\"M17.41 7.96l-1.37-1.37c-.4-.4-.92-.59-1.43-.59-.52 0-1.04.2-1.43.59L10.3 9.45l-7.72 7.72c-.78.78-.78 2.05 0 2.83L4 21.41c.39.39.9.59 1.41.59.51 0 1.02-.2 1.41-.59l7.78-7.78 2.81-2.81c.8-.78.8-2.07 0-2.86zM5.41 20L4 18.59l7.72-7.72 1.47 1.35L5.41 20z\"/>\n",
              "  </svg>\n",
              "      </button>\n",
              "      \n",
              "  <style>\n",
              "    .colab-df-container {\n",
              "      display:flex;\n",
              "      flex-wrap:wrap;\n",
              "      gap: 12px;\n",
              "    }\n",
              "\n",
              "    .colab-df-convert {\n",
              "      background-color: #E8F0FE;\n",
              "      border: none;\n",
              "      border-radius: 50%;\n",
              "      cursor: pointer;\n",
              "      display: none;\n",
              "      fill: #1967D2;\n",
              "      height: 32px;\n",
              "      padding: 0 0 0 0;\n",
              "      width: 32px;\n",
              "    }\n",
              "\n",
              "    .colab-df-convert:hover {\n",
              "      background-color: #E2EBFA;\n",
              "      box-shadow: 0px 1px 2px rgba(60, 64, 67, 0.3), 0px 1px 3px 1px rgba(60, 64, 67, 0.15);\n",
              "      fill: #174EA6;\n",
              "    }\n",
              "\n",
              "    [theme=dark] .colab-df-convert {\n",
              "      background-color: #3B4455;\n",
              "      fill: #D2E3FC;\n",
              "    }\n",
              "\n",
              "    [theme=dark] .colab-df-convert:hover {\n",
              "      background-color: #434B5C;\n",
              "      box-shadow: 0px 1px 3px 1px rgba(0, 0, 0, 0.15);\n",
              "      filter: drop-shadow(0px 1px 2px rgba(0, 0, 0, 0.3));\n",
              "      fill: #FFFFFF;\n",
              "    }\n",
              "  </style>\n",
              "\n",
              "      <script>\n",
              "        const buttonEl =\n",
              "          document.querySelector('#df-84a1a692-add2-425b-8593-46d4e8d2195f button.colab-df-convert');\n",
              "        buttonEl.style.display =\n",
              "          google.colab.kernel.accessAllowed ? 'block' : 'none';\n",
              "\n",
              "        async function convertToInteractive(key) {\n",
              "          const element = document.querySelector('#df-84a1a692-add2-425b-8593-46d4e8d2195f');\n",
              "          const dataTable =\n",
              "            await google.colab.kernel.invokeFunction('convertToInteractive',\n",
              "                                                     [key], {});\n",
              "          if (!dataTable) return;\n",
              "\n",
              "          const docLinkHtml = 'Like what you see? Visit the ' +\n",
              "            '<a target=\"_blank\" href=https://colab.research.google.com/notebooks/data_table.ipynb>data table notebook</a>'\n",
              "            + ' to learn more about interactive tables.';\n",
              "          element.innerHTML = '';\n",
              "          dataTable['output_type'] = 'display_data';\n",
              "          await google.colab.output.renderOutput(dataTable, element);\n",
              "          const docLink = document.createElement('div');\n",
              "          docLink.innerHTML = docLinkHtml;\n",
              "          element.appendChild(docLink);\n",
              "        }\n",
              "      </script>\n",
              "    </div>\n",
              "  </div>\n",
              "  "
            ]
          },
          "metadata": {},
          "execution_count": 310
        }
      ]
    },
    {
      "cell_type": "markdown",
      "source": [
        "## Exploratory Data Analysis"
      ],
      "metadata": {
        "id": "v6vUf44dEqEr"
      }
    },
    {
      "cell_type": "code",
      "source": [
        "len(disease_training['prognosis'].unique())"
      ],
      "metadata": {
        "id": "OrV_hjpsPHz4",
        "colab": {
          "base_uri": "https://localhost:8080/"
        },
        "outputId": "5a676bef-bd49-4bf7-ec49-e94559b1b170"
      },
      "execution_count": null,
      "outputs": [
        {
          "output_type": "execute_result",
          "data": {
            "text/plain": [
              "41"
            ]
          },
          "metadata": {},
          "execution_count": 311
        }
      ]
    },
    {
      "cell_type": "code",
      "source": [
        "len(disease_training) - disease_training.isna().count()"
      ],
      "metadata": {
        "id": "_vh6DfC5PSv5",
        "colab": {
          "base_uri": "https://localhost:8080/"
        },
        "outputId": "3b01e070-449f-4275-d751-a4ef0319c68d"
      },
      "execution_count": null,
      "outputs": [
        {
          "output_type": "execute_result",
          "data": {
            "text/plain": [
              "itching                 0\n",
              "skin_rash               0\n",
              "nodal_skin_eruptions    0\n",
              "continuous_sneezing     0\n",
              "shivering               0\n",
              "                       ..\n",
              "inflammatory_nails      0\n",
              "blister                 0\n",
              "red_sore_around_nose    0\n",
              "yellow_crust_ooze       0\n",
              "prognosis               0\n",
              "Length: 133, dtype: int64"
            ]
          },
          "metadata": {},
          "execution_count": 312
        }
      ]
    },
    {
      "cell_type": "code",
      "source": [
        "print(disease_training[\"prognosis\"].unique())\n"
      ],
      "metadata": {
        "id": "5qeWLGE9VW8r",
        "colab": {
          "base_uri": "https://localhost:8080/"
        },
        "outputId": "c233e5ee-73af-486b-e5eb-6c8aa21442ce"
      },
      "execution_count": null,
      "outputs": [
        {
          "output_type": "stream",
          "name": "stdout",
          "text": [
            "['Fungal infection' 'Allergy' 'GERD' 'Chronic cholestasis' 'Drug Reaction'\n",
            " 'Peptic ulcer diseae' 'AIDS' 'Diabetes ' 'Gastroenteritis'\n",
            " 'Bronchial Asthma' 'Hypertension ' 'Migraine' 'Cervical spondylosis'\n",
            " 'Paralysis (brain hemorrhage)' 'Jaundice' 'Malaria' 'Chicken pox'\n",
            " 'Dengue' 'Typhoid' 'hepatitis A' 'Hepatitis B' 'Hepatitis C'\n",
            " 'Hepatitis D' 'Hepatitis E' 'Alcoholic hepatitis' 'Tuberculosis'\n",
            " 'Common Cold' 'Pneumonia' 'Dimorphic hemmorhoids(piles)' 'Heart attack'\n",
            " 'Varicose veins' 'Hypothyroidism' 'Hyperthyroidism' 'Hypoglycemia'\n",
            " 'Osteoarthristis' 'Arthritis' '(vertigo) Paroymsal  Positional Vertigo'\n",
            " 'Acne' 'Urinary tract infection' 'Psoriasis' 'Impetigo']\n"
          ]
        }
      ]
    },
    {
      "cell_type": "code",
      "source": [
        "keys  = disease_training[\"prognosis\"].value_counts().keys()\n",
        "keys"
      ],
      "metadata": {
        "id": "-JvGs45HV8nK",
        "colab": {
          "base_uri": "https://localhost:8080/"
        },
        "outputId": "e44ad33c-9c6e-45fc-c203-edb410d59d6e"
      },
      "execution_count": null,
      "outputs": [
        {
          "output_type": "execute_result",
          "data": {
            "text/plain": [
              "Index(['Fungal infection', 'Hepatitis C', 'Hepatitis E', 'Alcoholic hepatitis',\n",
              "       'Tuberculosis', 'Common Cold', 'Pneumonia',\n",
              "       'Dimorphic hemmorhoids(piles)', 'Heart attack', 'Varicose veins',\n",
              "       'Hypothyroidism', 'Hyperthyroidism', 'Hypoglycemia', 'Osteoarthristis',\n",
              "       'Arthritis', '(vertigo) Paroymsal  Positional Vertigo', 'Acne',\n",
              "       'Urinary tract infection', 'Psoriasis', 'Hepatitis D', 'Hepatitis B',\n",
              "       'Allergy', 'hepatitis A', 'GERD', 'Chronic cholestasis',\n",
              "       'Drug Reaction', 'Peptic ulcer diseae', 'AIDS', 'Diabetes ',\n",
              "       'Gastroenteritis', 'Bronchial Asthma', 'Hypertension ', 'Migraine',\n",
              "       'Cervical spondylosis', 'Paralysis (brain hemorrhage)', 'Jaundice',\n",
              "       'Malaria', 'Chicken pox', 'Dengue', 'Typhoid', 'Impetigo'],\n",
              "      dtype='object')"
            ]
          },
          "metadata": {},
          "execution_count": 314
        }
      ]
    },
    {
      "cell_type": "code",
      "source": [
        "values = disease_training[\"prognosis\"].value_counts().values\n",
        "values"
      ],
      "metadata": {
        "id": "oJJpsV2SWFB3",
        "colab": {
          "base_uri": "https://localhost:8080/"
        },
        "outputId": "1c71ff56-ee3a-48f8-cc70-eab7201c6c17"
      },
      "execution_count": null,
      "outputs": [
        {
          "output_type": "execute_result",
          "data": {
            "text/plain": [
              "array([120, 120, 120, 120, 120, 120, 120, 120, 120, 120, 120, 120, 120,\n",
              "       120, 120, 120, 120, 120, 120, 120, 120, 120, 120, 120, 120, 120,\n",
              "       120, 120, 120, 120, 120, 120, 120, 120, 120, 120, 120, 120, 120,\n",
              "       120, 120])"
            ]
          },
          "metadata": {},
          "execution_count": 315
        }
      ]
    },
    {
      "cell_type": "code",
      "source": [
        "plt.figure(figsize = (80, 20))\n",
        "plt.xlabel(\"Diseases\")\n",
        "plt.ylabel(\"Frequency\")\n",
        "plt.bar(keys, values)"
      ],
      "metadata": {
        "id": "Diygrkm-WQFB",
        "colab": {
          "base_uri": "https://localhost:8080/",
          "height": 325
        },
        "outputId": "42da76fc-3fbd-49de-8ca0-8d43d01cb903"
      },
      "execution_count": null,
      "outputs": [
        {
          "output_type": "execute_result",
          "data": {
            "text/plain": [
              "<BarContainer object of 41 artists>"
            ]
          },
          "metadata": {},
          "execution_count": 316
        },
        {
          "output_type": "display_data",
          "data": {
            "text/plain": [
              "<Figure size 5760x1440 with 1 Axes>"
            ],
            "image/png": "[encoded data removed]"
          },
          "metadata": {}
        }
      ]
    },
    {
      "cell_type": "code",
      "source": [
        "def violin(col):\n",
        "    fig = px.violin(disease_training, y=col, x=\"class\", color=\"class\", box=True, template = 'plotly_dark')\n",
        "    return fig.show()\n",
        "\n",
        "def kde(col):\n",
        "    grid = sns.FacetGrid(disease_training, hue=\"class\", height = 6, aspect=2)\n",
        "    grid.map(sns.kdeplot, col)\n",
        "    grid.add_legend()\n",
        "    \n",
        "def scatter(col1, col2):\n",
        "    fig = px.scatter(disease_training, x=col1, y=col2, color=\"class\", template = 'plotly_dark')\n",
        "    return fig.show()\n",
        "\n"
      ],
      "metadata": {
        "id": "3Hpn5XLHB7dR"
      },
      "execution_count": null,
      "outputs": []
    },
    {
      "cell_type": "markdown",
      "source": [
        "##Data Preprocessing"
      ],
      "metadata": {
        "id": "hjQx702OFAjq"
      }
    },
    {
      "cell_type": "code",
      "source": [
        "#Encoding categorical to numerical\n",
        "encoder = LabelEncoder()\n",
        "disease_training[\"prognosis\"] = encoder.fit_transform(disease_training[\"prognosis\"])\n",
        "disease_testing[\"prognosis\"] = encoder.fit_transform(disease_testing[\"prognosis\"])"
      ],
      "metadata": {
        "id": "SQ4BQ45dTbZK"
      },
      "execution_count": null,
      "outputs": []
    },
    {
      "cell_type": "code",
      "source": [
        "#Decoding prognosis back\n",
        "decoded_data = encoder.inverse_transform(disease_testing[\"prognosis\"])\n",
        "decoded_data\n",
        "\n"
      ],
      "metadata": {
        "id": "-hTTN5GQLtWm",
        "colab": {
          "base_uri": "https://localhost:8080/"
        },
        "outputId": "2077d4f2-836f-434a-ae39-18318541d678"
      },
      "execution_count": null,
      "outputs": [
        {
          "output_type": "execute_result",
          "data": {
            "text/plain": [
              "array(['Fungal infection', 'Allergy', 'GERD', 'Chronic cholestasis',\n",
              "       'Drug Reaction', 'Peptic ulcer diseae', 'AIDS', 'Diabetes ',\n",
              "       'Gastroenteritis', 'Bronchial Asthma', 'Hypertension ', 'Migraine',\n",
              "       'Cervical spondylosis', 'Paralysis (brain hemorrhage)', 'Jaundice',\n",
              "       'Malaria', 'Chicken pox', 'Dengue', 'Typhoid', 'hepatitis A',\n",
              "       'Hepatitis B', 'Hepatitis C', 'Hepatitis D', 'Hepatitis E',\n",
              "       'Alcoholic hepatitis', 'Tuberculosis', 'Common Cold', 'Pneumonia',\n",
              "       'Dimorphic hemmorhoids(piles)', 'Heart attack', 'Varicose veins',\n",
              "       'Hypothyroidism', 'Hyperthyroidism', 'Hypoglycemia',\n",
              "       'Osteoarthristis', 'Arthritis',\n",
              "       '(vertigo) Paroymsal  Positional Vertigo', 'Acne',\n",
              "       'Urinary tract infection', 'Psoriasis', 'Impetigo',\n",
              "       'Fungal infection'], dtype=object)"
            ]
          },
          "metadata": {},
          "execution_count": 319
        }
      ]
    },
    {
      "cell_type": "code",
      "source": [
        "#Segregating X and Y axis\n",
        "X_train = disease_training.drop('prognosis',axis=1)\n",
        "Y_train = disease_training['prognosis']\n",
        "X_test = disease_testing.drop('prognosis',axis=1)\n",
        "Y_test = disease_testing['prognosis']"
      ],
      "metadata": {
        "id": "5wO6XGsCMcV2"
      },
      "execution_count": null,
      "outputs": []
    },
    {
      "cell_type": "markdown",
      "source": [
        "###ANOVA Feature Selection"
      ],
      "metadata": {
        "id": "M7KKSoXPFY2k"
      }
    },
    {
      "cell_type": "code",
      "source": [
        "#Selecting 75 best features on training dataset\n",
        "fs = SelectKBest(score_func=f_regression,k=75) \n",
        "fit = fs.fit(X_train,Y_train)"
      ],
      "metadata": {
        "id": "z-p1fJNOqX29"
      },
      "execution_count": null,
      "outputs": []
    },
    {
      "cell_type": "code",
      "source": [
        "#Selecting 75 best features on testing dataset\n",
        "fs = SelectKBest(score_func=f_regression,k=75)\n",
        "fit = fs.fit(X_test,Y_test)"
      ],
      "metadata": {
        "id": "CR3Opg_k_tXL"
      },
      "execution_count": null,
      "outputs": []
    },
    {
      "cell_type": "code",
      "source": [
        "print(np.round(fit.pvalues_,4))\n",
        "print(np.round(fit.scores_,3))"
      ],
      "metadata": {
        "id": "s9iy6L0yrDg5",
        "colab": {
          "base_uri": "https://localhost:8080/"
        },
        "outputId": "98b48315-5881-4488-8b78-8344052ce57c"
      },
      "execution_count": null,
      "outputs": [
        {
          "output_type": "stream",
          "name": "stdout",
          "text": [
            "[0.2819 0.2938 0.6823 0.1165 0.1783 0.4526 0.1316 0.5573 0.708  0.7449\n",
            " 0.1078 0.3066 0.4614 0.6217 0.2943 0.6076 0.6676 0.6076 0.5382 0.3705\n",
            " 0.8214 0.5263 0.1078 0.5079 0.9185 0.768  0.8092 0.5277 0.0822 0.8092\n",
            " 0.1581 0.8527 0.9235 0.2232 0.6483 0.5439 0.4552 0.1869 0.5382 0.2999\n",
            " 0.0547 0.2227 0.9412 0.3373 0.8591 1.     0.1519 0.7795 0.9626 0.715\n",
            " 0.3095 0.4057 0.4057 0.4057 0.4057 0.4057 0.5168 0.2769 0.2703 0.5634\n",
            " 0.5634 0.5634 0.5634 0.9158 0.8566 0.1033 0.1033 0.499  0.1033 0.1033\n",
            " 0.6076 0.6076 0.6076 0.6076 0.6169 0.1078 0.6676 0.6676 0.3489 0.3489\n",
            " 0.5175 0.7751 0.8214 0.2079 0.0898 0.136  0.0898 0.3067 0.4057 0.1233\n",
            " 0.1233 0.1233 0.268  0.268  0.1461 0.3271 0.2638 0.648  0.3067 0.1987\n",
            " 0.1461 0.5382 0.6823 0.1783 0.5079 0.5079 0.3525 0.2407 0.2326 0.7937\n",
            " 0.3944 0.9412 0.9412 0.8591 0.8591 0.1519 0.1519 0.1519 0.1718 0.1033\n",
            " 0.6676 0.8214 0.1285 0.1285 0.1285 0.5382 0.2006 0.2006 0.2006 0.55\n",
            " 0.8932 0.55  ]\n",
            "[1.190e+00 1.132e+00 1.700e-01 2.573e+00 1.877e+00 5.750e-01 2.369e+00\n",
            " 3.500e-01 1.420e-01 1.070e-01 2.705e+00 1.072e+00 5.530e-01 2.470e-01\n",
            " 1.130e+00 2.680e-01 1.870e-01 2.680e-01 3.860e-01 8.200e-01 5.200e-02\n",
            " 4.090e-01 2.705e+00 4.460e-01 1.100e-02 8.800e-02 5.900e-02 4.060e-01\n",
            " 3.178e+00 5.900e-02 2.069e+00 3.500e-02 9.000e-03 1.531e+00 2.110e-01\n",
            " 3.750e-01 5.690e-01 1.803e+00 3.860e-01 1.103e+00 3.918e+00 1.535e+00\n",
            " 6.000e-03 9.430e-01 3.200e-02 0.000e+00 2.134e+00 7.900e-02 2.000e-03\n",
            " 1.350e-01 1.060e+00 7.060e-01 7.060e-01 7.060e-01 7.060e-01 7.060e-01\n",
            " 4.280e-01 1.215e+00 1.250e+00 3.390e-01 3.390e-01 3.390e-01 3.390e-01\n",
            " 1.100e-02 3.300e-02 2.779e+00 2.779e+00 4.650e-01 2.779e+00 2.779e+00\n",
            " 2.680e-01 2.680e-01 2.680e-01 2.680e-01 2.540e-01 2.705e+00 1.870e-01\n",
            " 1.870e-01 8.990e-01 8.990e-01 4.260e-01 8.300e-02 5.200e-02 1.639e+00\n",
            " 3.022e+00 2.316e+00 3.022e+00 1.072e+00 7.060e-01 2.478e+00 2.478e+00\n",
            " 2.478e+00 1.262e+00 1.262e+00 2.198e+00 9.840e-01 1.284e+00 2.120e-01\n",
            " 1.072e+00 1.708e+00 2.198e+00 3.860e-01 1.700e-01 1.877e+00 4.460e-01\n",
            " 4.460e-01 8.850e-01 1.418e+00 1.469e+00 6.900e-02 7.410e-01 6.000e-03\n",
            " 6.000e-03 3.200e-02 3.200e-02 2.134e+00 2.134e+00 2.134e+00 1.936e+00\n",
            " 2.779e+00 1.870e-01 5.200e-02 2.410e+00 2.410e+00 2.410e+00 3.860e-01\n",
            " 1.694e+00 1.694e+00 1.694e+00 3.640e-01 1.800e-02 3.640e-01]\n"
          ]
        }
      ]
    },
    {
      "cell_type": "code",
      "source": [
        "#Feature selection on training dataset\n",
        "features_score = pd.DataFrame(fit.scores_)\n",
        "features_pvalue = pd.DataFrame(np.round(fit.pvalues_,4))\n",
        "features = pd.DataFrame(X_train.columns)\n",
        "feature_score = pd.concat([features,features_score,features_pvalue],axis=1)\n",
        "# Assign the column name\n",
        "feature_score.columns = [\"Input_Features\",\"F_Score\",\"P_Value\"]\n",
        "final_feature = feature_score.nlargest(75,columns=\"F_Score\")\n",
        "print(\" Feature Table\")\n",
        "print(\"-----------------\")\n",
        "print(final_feature)\n",
        "print(\"-----------------\")\n"
      ],
      "metadata": {
        "id": "J8mBJXg5rHtH",
        "colab": {
          "base_uri": "https://localhost:8080/"
        },
        "outputId": "a866a479-7779-47be-c7bf-7a59304bd99d"
      },
      "execution_count": null,
      "outputs": [
        {
          "output_type": "stream",
          "name": "stdout",
          "text": [
            " Feature Table\n",
            "-----------------\n",
            "            Input_Features   F_Score  P_Value\n",
            "40               diarrhoea  3.918280   0.0547\n",
            "28                sweating  3.178388   0.0822\n",
            "84      spinning_movements  3.021861   0.0898\n",
            "86            unsteadiness  3.021861   0.0898\n",
            "65                  cramps  2.778901   0.1033\n",
            "..                     ...       ...      ...\n",
            "67                 obesity  0.465452   0.4990\n",
            "23   irregular_sugar_level  0.446425   0.5079\n",
            "104     increased_appetite  0.446425   0.5079\n",
            "105               polyuria  0.446425   0.5079\n",
            "56              chest_pain  0.427927   0.5168\n",
            "\n",
            "[75 rows x 3 columns]\n",
            "-----------------\n"
          ]
        }
      ]
    },
    {
      "cell_type": "code",
      "source": [
        "#Visualizing feature importance \n",
        "import matplotlib.pyplot as plt\n",
        "import seaborn as sns\n",
        "%matplotlib inline\n",
        "\n",
        "fig = plt.gcf()\n",
        "fig.set_size_inches(16, 12)\n",
        "\n",
        "# Creating a bar plot\n",
        "sns.set_style(\"whitegrid\")\n",
        "sns.barplot(x=final_feature['F_Score'], y=final_feature['Input_Features'], palette='Blues_d',color='white')\n",
        "\n",
        "# Add labels to your graph\n",
        "plt.xlabel('Feature Importance Score')\n",
        "plt.ylabel('Features')\n",
        "plt.title(\"Visualizing Important Features\")\n",
        "plt.legend()\n",
        "plt.show()"
      ],
      "metadata": {
        "id": "qu4CzmR7hqcM",
        "colab": {
          "base_uri": "https://localhost:8080/",
          "height": 767
        },
        "outputId": "5fccc95b-189a-43f9-80fe-1792b707c278"
      },
      "execution_count": null,
      "outputs": [
        {
          "output_type": "stream",
          "name": "stderr",
          "text": [
            "WARNING:matplotlib.legend:No artists with labels found to put in legend.  Note that artists whose label start with an underscore are ignored when legend() is called with no argument.\n"
          ]
        },
        {
          "output_type": "display_data",
          "data": {
            "text/plain": [
              "<Figure size 1152x864 with 1 Axes>"
            ],
            "image/png": "[encoded data removed]"
          },
          "metadata": {
            "needs_background": "light"
          }
        }
      ]
    },
    {
      "cell_type": "code",
      "source": [
        "#Feature selection on testing dataset\n",
        "features_score = pd.DataFrame(fit.scores_)\n",
        "features_pvalue = pd.DataFrame(np.round(fit.pvalues_,4))\n",
        "features = pd.DataFrame(X_test.columns)\n",
        "feature_score = pd.concat([features,features_score,features_pvalue],axis=1)\n",
        "# Assign the column name\n",
        "feature_score.columns = [\"Input_Features\",\"F_Score\",\"P_Value\"]\n",
        "final_feature_test = feature_score.nlargest(75,columns=\"F_Score\")\n",
        "print(\"Feature table\",final_feature)\n"
      ],
      "metadata": {
        "id": "Ul9Lzjqj_53R",
        "colab": {
          "base_uri": "https://localhost:8080/"
        },
        "outputId": "06fa663f-139f-4461-f976-53936596dfc7"
      },
      "execution_count": null,
      "outputs": [
        {
          "output_type": "stream",
          "name": "stdout",
          "text": [
            "Feature table             Input_Features   F_Score  P_Value\n",
            "40               diarrhoea  3.918280   0.0547\n",
            "28                sweating  3.178388   0.0822\n",
            "84      spinning_movements  3.021861   0.0898\n",
            "86            unsteadiness  3.021861   0.0898\n",
            "65                  cramps  2.778901   0.1033\n",
            "..                     ...       ...      ...\n",
            "67                 obesity  0.465452   0.4990\n",
            "23   irregular_sugar_level  0.446425   0.5079\n",
            "104     increased_appetite  0.446425   0.5079\n",
            "105               polyuria  0.446425   0.5079\n",
            "56              chest_pain  0.427927   0.5168\n",
            "\n",
            "[75 rows x 3 columns]\n"
          ]
        }
      ]
    },
    {
      "cell_type": "code",
      "source": [
        "#Drop columns as per feature selection in training dataset \n",
        "def drop_columns_not_in_input_features(df1, df2):\n",
        "  input_features = df2['Input_Features'].tolist()\n",
        "  for col in df1.columns:\n",
        "      if col not in input_features:\n",
        "          df1.drop(col, axis=1, inplace=True)\n",
        "  return df1\n",
        "\n",
        "df1 = X_train\n",
        "df2 = final_feature\n",
        "\n",
        "updated_df1 = drop_columns_not_in_input_features(df1, df2)\n",
        "# print(updated_df1)"
      ],
      "metadata": {
        "id": "ORmEO2mWzlVB"
      },
      "execution_count": null,
      "outputs": []
    },
    {
      "cell_type": "code",
      "source": [
        "updated_X_train = updated_df1\n",
        "updated_Y_train = disease_training['prognosis']"
      ],
      "metadata": {
        "id": "JTglH6Q5-S8M"
      },
      "execution_count": null,
      "outputs": []
    },
    {
      "cell_type": "code",
      "source": [
        "#Drop columns as per feature selection in testing dataset \n",
        "def drop_columns_not_in_input_features(df1_test, df2_test):\n",
        "  input_features = df2_test['Input_Features'].tolist()\n",
        "  for col in df1_test.columns:\n",
        "      if col not in input_features:\n",
        "          df1_test.drop(col, axis=1, inplace=True)\n",
        "  return df1_test\n",
        "\n",
        "df1_test = X_test\n",
        "df2_test = final_feature_test\n",
        "\n",
        "updated_df1_test = drop_columns_not_in_input_features(df1_test, df2_test)\n",
        "print(updated_df1_test)"
      ],
      "metadata": {
        "id": "68tSUXimAcoG",
        "colab": {
          "base_uri": "https://localhost:8080/"
        },
        "outputId": "42806db9-1590-4be5-859c-f230eb6428cb"
      },
      "execution_count": null,
      "outputs": [
        {
          "output_type": "stream",
          "name": "stdout",
          "text": [
            "    itching  skin_rash  continuous_sneezing  shivering  chills  joint_pain  \\\n",
            "0         1          1                    0          0       0           0   \n",
            "1         0          0                    1          1       1           0   \n",
            "2         0          0                    0          0       0           0   \n",
            "3         1          0                    0          0       0           0   \n",
            "4         1          1                    0          0       0           0   \n",
            "5         0          0                    0          0       0           0   \n",
            "6         0          0                    0          0       0           0   \n",
            "7         0          0                    0          0       0           0   \n",
            "8         0          0                    0          0       0           0   \n",
            "9         0          0                    0          0       0           0   \n",
            "10        0          0                    0          0       0           0   \n",
            "11        0          0                    0          0       0           0   \n",
            "12        0          0                    0          0       0           0   \n",
            "13        0          0                    0          0       0           0   \n",
            "14        1          0                    0          0       0           0   \n",
            "15        0          0                    0          0       1           0   \n",
            "16        1          1                    0          0       0           0   \n",
            "17        0          1                    0          0       1           1   \n",
            "18        0          0                    0          0       1           0   \n",
            "19        0          0                    0          0       0           1   \n",
            "20        1          0                    0          0       0           0   \n",
            "21        0          0                    0          0       0           0   \n",
            "22        0          0                    0          0       0           1   \n",
            "23        0          0                    0          0       0           1   \n",
            "24        0          0                    0          0       0           0   \n",
            "25        0          0                    0          0       1           0   \n",
            "26        0          0                    1          0       1           0   \n",
            "27        0          0                    0          0       1           0   \n",
            "28        0          0                    0          0       0           0   \n",
            "29        0          0                    0          0       0           0   \n",
            "30        0          0                    0          0       0           0   \n",
            "31        0          0                    0          0       0           0   \n",
            "32        0          0                    0          0       0           0   \n",
            "33        0          0                    0          0       0           0   \n",
            "34        0          0                    0          0       0           1   \n",
            "35        0          0                    0          0       0           0   \n",
            "36        0          0                    0          0       0           0   \n",
            "37        0          1                    0          0       0           0   \n",
            "38        0          0                    0          0       0           0   \n",
            "39        0          1                    0          0       0           1   \n",
            "40        0          1                    0          0       0           0   \n",
            "41        1          1                    0          0       0           0   \n",
            "\n",
            "    muscle_wasting  vomiting  burning_micturition  fatigue  ...  \\\n",
            "0                0         0                    0        0  ...   \n",
            "1                0         0                    0        0  ...   \n",
            "2                0         1                    0        0  ...   \n",
            "3                0         1                    0        0  ...   \n",
            "4                0         0                    1        0  ...   \n",
            "5                0         1                    0        0  ...   \n",
            "6                1         0                    0        0  ...   \n",
            "7                0         0                    0        1  ...   \n",
            "8                0         1                    0        0  ...   \n",
            "9                0         0                    0        1  ...   \n",
            "10               0         0                    0        0  ...   \n",
            "11               0         0                    0        0  ...   \n",
            "12               0         0                    0        0  ...   \n",
            "13               0         1                    0        0  ...   \n",
            "14               0         1                    0        1  ...   \n",
            "15               0         1                    0        0  ...   \n",
            "16               0         0                    0        1  ...   \n",
            "17               0         1                    0        1  ...   \n",
            "18               0         1                    0        1  ...   \n",
            "19               0         1                    0        0  ...   \n",
            "20               0         0                    0        1  ...   \n",
            "21               0         0                    0        1  ...   \n",
            "22               0         1                    0        1  ...   \n",
            "23               0         1                    0        1  ...   \n",
            "24               0         1                    0        0  ...   \n",
            "25               0         1                    0        1  ...   \n",
            "26               0         0                    0        1  ...   \n",
            "27               0         0                    0        1  ...   \n",
            "28               0         0                    0        0  ...   \n",
            "29               0         1                    0        0  ...   \n",
            "30               0         0                    0        1  ...   \n",
            "31               0         0                    0        1  ...   \n",
            "32               0         0                    0        1  ...   \n",
            "33               0         1                    0        1  ...   \n",
            "34               0         0                    0        0  ...   \n",
            "35               0         0                    0        0  ...   \n",
            "36               0         1                    0        0  ...   \n",
            "37               0         0                    0        0  ...   \n",
            "38               0         0                    1        0  ...   \n",
            "39               0         0                    0        0  ...   \n",
            "40               0         0                    0        0  ...   \n",
            "41               0         0                    0        0  ...   \n",
            "\n",
            "    history_of_alcohol_consumption  fluid_overload.1  blood_in_sputum  \\\n",
            "0                                0                 0                0   \n",
            "1                                0                 0                0   \n",
            "2                                0                 0                0   \n",
            "3                                0                 0                0   \n",
            "4                                0                 0                0   \n",
            "5                                0                 0                0   \n",
            "6                                0                 0                0   \n",
            "7                                0                 0                0   \n",
            "8                                0                 0                0   \n",
            "9                                0                 0                0   \n",
            "10                               0                 0                0   \n",
            "11                               0                 0                0   \n",
            "12                               0                 0                0   \n",
            "13                               0                 0                0   \n",
            "14                               0                 0                0   \n",
            "15                               0                 0                0   \n",
            "16                               0                 0                0   \n",
            "17                               0                 0                0   \n",
            "18                               0                 0                0   \n",
            "19                               0                 0                0   \n",
            "20                               0                 0                0   \n",
            "21                               0                 0                0   \n",
            "22                               0                 0                0   \n",
            "23                               0                 0                0   \n",
            "24                               1                 1                0   \n",
            "25                               0                 0                1   \n",
            "26                               0                 0                0   \n",
            "27                               0                 0                0   \n",
            "28                               0                 0                0   \n",
            "29                               0                 0                0   \n",
            "30                               0                 0                0   \n",
            "31                               0                 0                0   \n",
            "32                               0                 0                0   \n",
            "33                               0                 0                0   \n",
            "34                               0                 0                0   \n",
            "35                               0                 0                0   \n",
            "36                               0                 0                0   \n",
            "37                               0                 0                0   \n",
            "38                               0                 0                0   \n",
            "39                               0                 0                0   \n",
            "40                               0                 0                0   \n",
            "41                               0                 0                0   \n",
            "\n",
            "    prominent_veins_on_calf  pus_filled_pimples  blackheads  scurring  \\\n",
            "0                         0                   0           0         0   \n",
            "1                         0                   0           0         0   \n",
            "2                         0                   0           0         0   \n",
            "3                         0                   0           0         0   \n",
            "4                         0                   0           0         0   \n",
            "5                         0                   0           0         0   \n",
            "6                         0                   0           0         0   \n",
            "7                         0                   0           0         0   \n",
            "8                         0                   0           0         0   \n",
            "9                         0                   0           0         0   \n",
            "10                        0                   0           0         0   \n",
            "11                        0                   0           0         0   \n",
            "12                        0                   0           0         0   \n",
            "13                        0                   0           0         0   \n",
            "14                        0                   0           0         0   \n",
            "15                        0                   0           0         0   \n",
            "16                        0                   0           0         0   \n",
            "17                        0                   0           0         0   \n",
            "18                        0                   0           0         0   \n",
            "19                        0                   0           0         0   \n",
            "20                        0                   0           0         0   \n",
            "21                        0                   0           0         0   \n",
            "22                        0                   0           0         0   \n",
            "23                        0                   0           0         0   \n",
            "24                        0                   0           0         0   \n",
            "25                        0                   0           0         0   \n",
            "26                        0                   0           0         0   \n",
            "27                        0                   0           0         0   \n",
            "28                        0                   0           0         0   \n",
            "29                        0                   0           0         0   \n",
            "30                        1                   0           0         0   \n",
            "31                        0                   0           0         0   \n",
            "32                        0                   0           0         0   \n",
            "33                        0                   0           0         0   \n",
            "34                        0                   0           0         0   \n",
            "35                        0                   0           0         0   \n",
            "36                        0                   0           0         0   \n",
            "37                        0                   1           1         1   \n",
            "38                        0                   0           0         0   \n",
            "39                        0                   0           0         0   \n",
            "40                        0                   0           0         0   \n",
            "41                        0                   0           0         0   \n",
            "\n",
            "    silver_like_dusting  small_dents_in_nails  inflammatory_nails  \n",
            "0                     0                     0                   0  \n",
            "1                     0                     0                   0  \n",
            "2                     0                     0                   0  \n",
            "3                     0                     0                   0  \n",
            "4                     0                     0                   0  \n",
            "5                     0                     0                   0  \n",
            "6                     0                     0                   0  \n",
            "7                     0                     0                   0  \n",
            "8                     0                     0                   0  \n",
            "9                     0                     0                   0  \n",
            "10                    0                     0                   0  \n",
            "11                    0                     0                   0  \n",
            "12                    0                     0                   0  \n",
            "13                    0                     0                   0  \n",
            "14                    0                     0                   0  \n",
            "15                    0                     0                   0  \n",
            "16                    0                     0                   0  \n",
            "17                    0                     0                   0  \n",
            "18                    0                     0                   0  \n",
            "19                    0                     0                   0  \n",
            "20                    0                     0                   0  \n",
            "21                    0                     0                   0  \n",
            "22                    0                     0                   0  \n",
            "23                    0                     0                   0  \n",
            "24                    0                     0                   0  \n",
            "25                    0                     0                   0  \n",
            "26                    0                     0                   0  \n",
            "27                    0                     0                   0  \n",
            "28                    0                     0                   0  \n",
            "29                    0                     0                   0  \n",
            "30                    0                     0                   0  \n",
            "31                    0                     0                   0  \n",
            "32                    0                     0                   0  \n",
            "33                    0                     0                   0  \n",
            "34                    0                     0                   0  \n",
            "35                    0                     0                   0  \n",
            "36                    0                     0                   0  \n",
            "37                    0                     0                   0  \n",
            "38                    0                     0                   0  \n",
            "39                    1                     1                   1  \n",
            "40                    0                     0                   0  \n",
            "41                    0                     0                   0  \n",
            "\n",
            "[42 rows x 75 columns]\n"
          ]
        }
      ]
    },
    {
      "cell_type": "code",
      "source": [
        "updated_X_test = updated_df1_test\n",
        "updated_Y_test = disease_testing['prognosis']"
      ],
      "metadata": {
        "id": "JfTBaCLQAthv"
      },
      "execution_count": null,
      "outputs": []
    },
    {
      "cell_type": "markdown",
      "source": [
        "##Applying SVM Model"
      ],
      "metadata": {
        "id": "HQH0-yo8XoLK"
      }
    },
    {
      "cell_type": "code",
      "source": [
        "#Linear SVM\n",
        "svm_model_linear = SVC(kernel='linear')\n",
        "svm_model_linear.fit(updated_X_train, updated_Y_train)\n",
        "svm_predicted_linear = svm_model_linear.predict(X_test)\n",
        "y_pred_svm_linear = svm_model_linear.predict(updated_X_test)\n",
        "y_pred_svm_linear\n",
        "\n",
        "#Polynomial SVM\n",
        "svm_model_poly = SVC(kernel='poly')\n",
        "svm_model_poly.fit(updated_X_train, updated_Y_train)\n",
        "svm_predicted_poly = svm_model_poly.predict(X_test)\n",
        "y_pred_svm_poly = svm_model_poly.predict(updated_X_test)\n",
        "y_pred_svm_poly\n",
        "\n",
        "#RBF SVM\n",
        "svm_model_rbf = SVC(kernel='rbf')\n",
        "svm_model_rbf.fit(updated_X_train, updated_Y_train)\n",
        "svm_predicted_rbf = svm_model_rbf.predict(X_test)\n",
        "y_pred_svm_rbf = svm_model_rbf.predict(updated_X_test)\n",
        "y_pred_svm_rbf\n",
        "\n",
        "print(\"SVM model accuracy(in %):\", accuracy_score(updated_Y_test, svm_predicted_linear)*100)\n",
        "print(\"SVM model accuracy(in %):\", accuracy_score(updated_Y_test, svm_predicted_poly)*100)\n",
        "print(\"SVM model accuracy(in %):\", accuracy_score(updated_Y_test, svm_predicted_rbf)*100)\n",
        "\n",
        "linear_acc = accuracy_score(updated_Y_test, svm_predicted_linear)*100\n",
        "poly_acc = accuracy_score(updated_Y_test, svm_predicted_poly)*100\n",
        "rbf_acc = accuracy_score(updated_Y_test, svm_predicted_rbf)*100"
      ],
      "metadata": {
        "id": "fk88hERRNOvk",
        "colab": {
          "base_uri": "https://localhost:8080/"
        },
        "outputId": "d7531aa3-b90a-48af-97b8-e4b805d6952c"
      },
      "execution_count": null,
      "outputs": [
        {
          "output_type": "stream",
          "name": "stdout",
          "text": [
            "SVM model accuracy(in %): 95.23809523809523\n",
            "SVM model accuracy(in %): 97.61904761904762\n",
            "SVM model accuracy(in %): 95.23809523809523\n"
          ]
        }
      ]
    },
    {
      "cell_type": "code",
      "source": [
        "from sklearn.metrics import accuracy_score\n",
        "\n",
        "print(updated_X_train.shape)\n",
        "print(updated_Y_train.shape)"
      ],
      "metadata": {
        "id": "y8EhPi49PlJA",
        "colab": {
          "base_uri": "https://localhost:8080/"
        },
        "outputId": "56bc0b8a-24bc-4c8c-e6fd-775151a75db3"
      },
      "execution_count": null,
      "outputs": [
        {
          "output_type": "stream",
          "name": "stdout",
          "text": [
            "(4920, 75)\n",
            "(4920,)\n"
          ]
        }
      ]
    },
    {
      "cell_type": "code",
      "source": [
        "cf_matrix = confusion_matrix(updated_Y_test, y_pred_svm_rbf)\n",
        "plt.figure(figsize=(12,8))\n",
        "\n",
        "sns.heatmap(cf_matrix, annot = True)\n",
        "plt.title(\"Confusion Matrix for Combined Model on Test Dataset\")\n",
        "plt.show()"
      ],
      "metadata": {
        "id": "xYD6j1VUgNz-",
        "colab": {
          "base_uri": "https://localhost:8080/",
          "height": 499
        },
        "outputId": "297a463f-ab98-41cb-aaa8-97e6a35129db"
      },
      "execution_count": null,
      "outputs": [
        {
          "output_type": "display_data",
          "data": {
            "text/plain": [
              "<Figure size 864x576 with 2 Axes>"
            ],
            "image/png": "[encoded data removed]"
          },
          "metadata": {}
        }
      ]
    },
    {
      "cell_type": "markdown",
      "source": [
        "##Applying Random Forest Classifier"
      ],
      "metadata": {
        "id": "BED8gTZiX0kL"
      }
    },
    {
      "cell_type": "code",
      "source": [
        "dt = RandomForestClassifier()\n",
        "dt.fit(updated_X_train, updated_Y_train)\n",
        "print(\"Random Forest Classifier score with \",format(dt.score(updated_X_test, updated_Y_test)))\n",
        "\n",
        "rf_acc = format(dt.score(updated_X_test, updated_Y_test))"
      ],
      "metadata": {
        "id": "k3P9vH9EG4hO",
        "colab": {
          "base_uri": "https://localhost:8080/"
        },
        "outputId": "ea658378-9c0b-4d72-fab2-dea3c20abcac"
      },
      "execution_count": null,
      "outputs": [
        {
          "output_type": "stream",
          "name": "stdout",
          "text": [
            "Random Forest Classifier score with  0.9523809523809523\n"
          ]
        }
      ]
    },
    {
      "cell_type": "code",
      "source": [
        "cf_matrix = confusion_matrix(updated_Y_test, y_pred_dt)\n",
        "plt.figure(figsize=(12,8))\n",
        "\n",
        "sns.heatmap(cf_matrix, annot = True)\n",
        "plt.title(\"Confusion Matrix for Combined Model on Test Dataset\")\n",
        "plt.show()"
      ],
      "metadata": {
        "id": "RKChwSDnG810",
        "colab": {
          "base_uri": "https://localhost:8080/",
          "height": 499
        },
        "outputId": "202fb1ee-ba15-4e53-d6ab-1aae11fdb5f9"
      },
      "execution_count": null,
      "outputs": [
        {
          "output_type": "display_data",
          "data": {
            "text/plain": [
              "<Figure size 864x576 with 2 Axes>"
            ],
            "image/png": "[encoded data removed]"
          },
          "metadata": {}
        }
      ]
    },
    {
      "cell_type": "code",
      "source": [
        "#For Receiver Operating Characteristic (ROC)\n",
        "from sklearn.metrics import roc_curve ,roc_auc_score, auc"
      ],
      "metadata": {
        "id": "wNAukSAVMWS1"
      },
      "execution_count": null,
      "outputs": []
    },
    {
      "cell_type": "code",
      "source": [
        "#Fitting the model\n",
        "\n",
        "rfc = RandomForestClassifier(criterion='gini',n_estimators=70,bootstrap=True,max_depth=13,max_features='auto', min_samples_leaf=5, min_samples_split=10,random_state=1)\n",
        "rfc.fit(updated_X_train, updated_Y_train)\n",
        "# Applying the model to the x_test\n",
        "\n",
        "pred_rf= rfc.predict(X_test)\n",
        "pred_rf"
      ],
      "metadata": {
        "colab": {
          "base_uri": "https://localhost:8080/"
        },
        "id": "fmREP7bHNxDo",
        "outputId": "56b3a7e3-d148-48f6-a4d0-2746efd78fba"
      },
      "execution_count": null,
      "outputs": [
        {
          "output_type": "stream",
          "name": "stderr",
          "text": [
            "/usr/local/lib/python3.9/dist-packages/sklearn/ensemble/_forest.py:424: FutureWarning: `max_features='auto'` has been deprecated in 1.1 and will be removed in 1.3. To keep the past behaviour, explicitly set `max_features='sqrt'` or remove this parameter as it is also the default value for RandomForestClassifiers and ExtraTreesClassifiers.\n",
            "  warn(\n"
          ]
        },
        {
          "output_type": "execute_result",
          "data": {
            "text/plain": [
              "array([15,  4, 16,  9, 14, 33,  1, 12, 17,  6, 23, 30,  7, 32, 28, 29,  8,\n",
              "       11, 37, 40, 19, 20, 22, 22,  3, 36, 10, 34, 13, 18, 39, 26, 24, 25,\n",
              "       31,  5,  0,  2, 38, 35, 27,  8])"
            ]
          },
          "metadata": {},
          "execution_count": 337
        }
      ]
    },
    {
      "cell_type": "markdown",
      "source": [
        "\n",
        "##Applying Logistic Regression"
      ],
      "metadata": {
        "id": "Foc1wfUJX38m"
      }
    },
    {
      "cell_type": "code",
      "source": [
        "lr=LogisticRegression(C=0.2,random_state=0, penalty='l2')\n",
        "lr.fit(updated_X_train, updated_Y_train)\n",
        "print(\"Logistic Train score with \",format(lr.score(updated_X_test, updated_Y_test)))\n",
        "\n",
        "lr_acc = format(lr.score(updated_X_test, updated_Y_test))"
      ],
      "metadata": {
        "id": "5RbQQ_BHIgsR",
        "colab": {
          "base_uri": "https://localhost:8080/"
        },
        "outputId": "552d139b-e542-47b2-b4f3-f10ca90110e9"
      },
      "execution_count": null,
      "outputs": [
        {
          "output_type": "stream",
          "name": "stdout",
          "text": [
            "Logistic Train score with  0.9761904761904762\n"
          ]
        }
      ]
    },
    {
      "cell_type": "code",
      "source": [
        "print(\"Classification Report\")\n",
        "print(classification_report(updated_Y_test,y_pred_dt))"
      ],
      "metadata": {
        "id": "Uw_q3dqYcj9M",
        "colab": {
          "base_uri": "https://localhost:8080/"
        },
        "outputId": "eb43a90f-d80b-4dd7-cbf2-4414a3c5d20e"
      },
      "execution_count": null,
      "outputs": [
        {
          "output_type": "stream",
          "name": "stdout",
          "text": [
            "Classification Report\n",
            "              precision    recall  f1-score   support\n",
            "\n",
            "           0       1.00      1.00      1.00         1\n",
            "           1       1.00      1.00      1.00         1\n",
            "           2       1.00      1.00      1.00         1\n",
            "           3       1.00      1.00      1.00         1\n",
            "           4       1.00      1.00      1.00         1\n",
            "           5       1.00      1.00      1.00         1\n",
            "           6       1.00      1.00      1.00         1\n",
            "           7       1.00      1.00      1.00         1\n",
            "           8       0.50      1.00      0.67         1\n",
            "           9       1.00      1.00      1.00         1\n",
            "          10       1.00      1.00      1.00         1\n",
            "          11       1.00      1.00      1.00         1\n",
            "          12       1.00      1.00      1.00         1\n",
            "          13       1.00      1.00      1.00         1\n",
            "          14       1.00      1.00      1.00         1\n",
            "          15       1.00      0.50      0.67         2\n",
            "          16       1.00      1.00      1.00         1\n",
            "          17       1.00      1.00      1.00         1\n",
            "          18       1.00      1.00      1.00         1\n",
            "          19       1.00      1.00      1.00         1\n",
            "          20       1.00      1.00      1.00         1\n",
            "          21       0.00      0.00      0.00         1\n",
            "          22       0.50      1.00      0.67         1\n",
            "          23       1.00      1.00      1.00         1\n",
            "          24       1.00      1.00      1.00         1\n",
            "          25       1.00      1.00      1.00         1\n",
            "          26       1.00      1.00      1.00         1\n",
            "          27       1.00      1.00      1.00         1\n",
            "          28       1.00      1.00      1.00         1\n",
            "          29       1.00      1.00      1.00         1\n",
            "          30       1.00      1.00      1.00         1\n",
            "          31       1.00      1.00      1.00         1\n",
            "          32       1.00      1.00      1.00         1\n",
            "          33       1.00      1.00      1.00         1\n",
            "          34       1.00      1.00      1.00         1\n",
            "          35       1.00      1.00      1.00         1\n",
            "          36       1.00      1.00      1.00         1\n",
            "          37       1.00      1.00      1.00         1\n",
            "          38       1.00      1.00      1.00         1\n",
            "          39       1.00      1.00      1.00         1\n",
            "          40       1.00      1.00      1.00         1\n",
            "\n",
            "    accuracy                           0.95        42\n",
            "   macro avg       0.95      0.96      0.95        42\n",
            "weighted avg       0.95      0.95      0.94        42\n",
            "\n"
          ]
        },
        {
          "output_type": "stream",
          "name": "stderr",
          "text": [
            "/usr/local/lib/python3.9/dist-packages/sklearn/metrics/_classification.py:1344: UndefinedMetricWarning: Precision and F-score are ill-defined and being set to 0.0 in labels with no predicted samples. Use `zero_division` parameter to control this behavior.\n",
            "  _warn_prf(average, modifier, msg_start, len(result))\n",
            "/usr/local/lib/python3.9/dist-packages/sklearn/metrics/_classification.py:1344: UndefinedMetricWarning: Precision and F-score are ill-defined and being set to 0.0 in labels with no predicted samples. Use `zero_division` parameter to control this behavior.\n",
            "  _warn_prf(average, modifier, msg_start, len(result))\n",
            "/usr/local/lib/python3.9/dist-packages/sklearn/metrics/_classification.py:1344: UndefinedMetricWarning: Precision and F-score are ill-defined and being set to 0.0 in labels with no predicted samples. Use `zero_division` parameter to control this behavior.\n",
            "  _warn_prf(average, modifier, msg_start, len(result))\n"
          ]
        }
      ]
    },
    {
      "cell_type": "code",
      "source": [
        "y_pred_dt = dt.predict(updated_X_test)"
      ],
      "metadata": {
        "id": "kKaB4yw1QJe4"
      },
      "execution_count": null,
      "outputs": []
    },
    {
      "cell_type": "code",
      "source": [
        "cf_matrix = confusion_matrix(updated_Y_test, y_pred_dt)\n",
        "plt.figure(figsize=(12,8))\n",
        "\n",
        "sns.heatmap(cf_matrix, annot = True)\n",
        "plt.title(\"Confusion Matrix for Combined Model on Test Dataset\")\n",
        "plt.show()"
      ],
      "metadata": {
        "id": "AtrDYc61QO75",
        "colab": {
          "base_uri": "https://localhost:8080/",
          "height": 499
        },
        "outputId": "deb8bb62-52da-443e-aefe-21430d058974"
      },
      "execution_count": null,
      "outputs": [
        {
          "output_type": "display_data",
          "data": {
            "text/plain": [
              "<Figure size 864x576 with 2 Axes>"
            ],
            "image/png": "[encoded data removed]"
          },
          "metadata": {}
        }
      ]
    },
    {
      "cell_type": "markdown",
      "source": [
        "#XGBoost Classifier"
      ],
      "metadata": {
        "id": "az5QX1VwX7C-"
      }
    },
    {
      "cell_type": "code",
      "source": [
        "from sklearn.preprocessing import LabelEncoder\n",
        "from xgboost import XGBClassifier\n",
        "\n",
        "xgbclassifier = XGBClassifier()\n",
        "\n",
        "xgbclassifier.fit(updated_X_train,updated_Y_train)\n",
        "y_pred_xgb = xgbclassifier.predict(updated_X_test)\n",
        "print(y_pred_xgb)\n",
        "print(accuracy_score(updated_Y_test, y_pred_xgb)*100)\n",
        "print(classification_report(updated_Y_test,y_pred_xgb))\n",
        "\n",
        "cf_matrix = confusion_matrix(updated_Y_test, y_pred_xgb)\n",
        "plt.figure(figsize=(12,8))\n",
        "\n",
        "sns.heatmap(cf_matrix, annot = True)\n",
        "plt.title(\"Confusion Matrix for Combined Model on Test Dataset\")\n",
        "plt.show()\n",
        "\n",
        "xgb_acc = accuracy_score(updated_Y_test, y_pred_xgb)*100"
      ],
      "metadata": {
        "id": "y6OYjAFexVyh",
        "colab": {
          "base_uri": "https://localhost:8080/",
          "height": 1000
        },
        "outputId": "747f0aef-2cc8-4a9d-e55d-64c55b38327c"
      },
      "execution_count": null,
      "outputs": [
        {
          "output_type": "stream",
          "name": "stdout",
          "text": [
            "[15  4 16  9 14 33  1 12 17  6 23 30  7 32 28 29  8 11 37 40 19 20 22 22\n",
            "  3 36 10 34 13 18 39 26 24 25 31  5  0  2 38 35 27  8]\n",
            "95.23809523809523\n",
            "              precision    recall  f1-score   support\n",
            "\n",
            "           0       1.00      1.00      1.00         1\n",
            "           1       1.00      1.00      1.00         1\n",
            "           2       1.00      1.00      1.00         1\n",
            "           3       1.00      1.00      1.00         1\n",
            "           4       1.00      1.00      1.00         1\n",
            "           5       1.00      1.00      1.00         1\n",
            "           6       1.00      1.00      1.00         1\n",
            "           7       1.00      1.00      1.00         1\n",
            "           8       0.50      1.00      0.67         1\n",
            "           9       1.00      1.00      1.00         1\n",
            "          10       1.00      1.00      1.00         1\n",
            "          11       1.00      1.00      1.00         1\n",
            "          12       1.00      1.00      1.00         1\n",
            "          13       1.00      1.00      1.00         1\n",
            "          14       1.00      1.00      1.00         1\n",
            "          15       1.00      0.50      0.67         2\n",
            "          16       1.00      1.00      1.00         1\n",
            "          17       1.00      1.00      1.00         1\n",
            "          18       1.00      1.00      1.00         1\n",
            "          19       1.00      1.00      1.00         1\n",
            "          20       1.00      1.00      1.00         1\n",
            "          21       0.00      0.00      0.00         1\n",
            "          22       0.50      1.00      0.67         1\n",
            "          23       1.00      1.00      1.00         1\n",
            "          24       1.00      1.00      1.00         1\n",
            "          25       1.00      1.00      1.00         1\n",
            "          26       1.00      1.00      1.00         1\n",
            "          27       1.00      1.00      1.00         1\n",
            "          28       1.00      1.00      1.00         1\n",
            "          29       1.00      1.00      1.00         1\n",
            "          30       1.00      1.00      1.00         1\n",
            "          31       1.00      1.00      1.00         1\n",
            "          32       1.00      1.00      1.00         1\n",
            "          33       1.00      1.00      1.00         1\n",
            "          34       1.00      1.00      1.00         1\n",
            "          35       1.00      1.00      1.00         1\n",
            "          36       1.00      1.00      1.00         1\n",
            "          37       1.00      1.00      1.00         1\n",
            "          38       1.00      1.00      1.00         1\n",
            "          39       1.00      1.00      1.00         1\n",
            "          40       1.00      1.00      1.00         1\n",
            "\n",
            "    accuracy                           0.95        42\n",
            "   macro avg       0.95      0.96      0.95        42\n",
            "weighted avg       0.95      0.95      0.94        42\n",
            "\n"
          ]
        },
        {
          "output_type": "stream",
          "name": "stderr",
          "text": [
            "/usr/local/lib/python3.9/dist-packages/sklearn/metrics/_classification.py:1344: UndefinedMetricWarning: Precision and F-score are ill-defined and being set to 0.0 in labels with no predicted samples. Use `zero_division` parameter to control this behavior.\n",
            "  _warn_prf(average, modifier, msg_start, len(result))\n",
            "/usr/local/lib/python3.9/dist-packages/sklearn/metrics/_classification.py:1344: UndefinedMetricWarning: Precision and F-score are ill-defined and being set to 0.0 in labels with no predicted samples. Use `zero_division` parameter to control this behavior.\n",
            "  _warn_prf(average, modifier, msg_start, len(result))\n",
            "/usr/local/lib/python3.9/dist-packages/sklearn/metrics/_classification.py:1344: UndefinedMetricWarning: Precision and F-score are ill-defined and being set to 0.0 in labels with no predicted samples. Use `zero_division` parameter to control this behavior.\n",
            "  _warn_prf(average, modifier, msg_start, len(result))\n"
          ]
        },
        {
          "output_type": "display_data",
          "data": {
            "text/plain": [
              "<Figure size 864x576 with 2 Axes>"
            ],
            "image/png": "[encoded data removed]"
          },
          "metadata": {}
        }
      ]
    },
    {
      "cell_type": "markdown",
      "source": [
        "#Applying Naive Bayes"
      ],
      "metadata": {
        "id": "30R-KpzoX-0L"
      }
    },
    {
      "cell_type": "code",
      "source": [
        "from sklearn.naive_bayes import GaussianNB\n",
        "\n",
        "nb_model = GaussianNB()\n",
        "nb_model.fit(updated_X_train, updated_Y_train)\n",
        "y_pred1 = nb_model.predict(X_test)\n",
        "print(f\"Accuracy on train data by Naive Bayes Classifier\\\n",
        ": {accuracy_score(updated_Y_train, nb_model.predict(updated_X_train))*100}\")\n",
        "\n",
        "print(f\"Accuracy on test data by Naive Bayes Classifier\\\n",
        ": {accuracy_score(updated_Y_test, y_pred1)*100}\")\n",
        "cf_matrix = confusion_matrix(updated_Y_test, y_pred1)\n",
        "\n",
        "nb_acc = accuracy_score(updated_Y_test, y_pred1)*100\n",
        "\n",
        "plt.figure(figsize=(12,8))\n",
        "sns.heatmap(cf_matrix, annot=True)\n",
        "plt.title(\"Confusion Matrix for Naive Bayes Classifier on Test Data\")\n",
        "plt.show()"
      ],
      "metadata": {
        "id": "dQx479aM7Lly",
        "colab": {
          "base_uri": "https://localhost:8080/",
          "height": 534
        },
        "outputId": "e2a34dd9-58ee-4b10-950c-e774c0bfab9b"
      },
      "execution_count": null,
      "outputs": [
        {
          "output_type": "stream",
          "name": "stdout",
          "text": [
            "Accuracy on train data by Naive Bayes Classifier: 96.46341463414633\n",
            "Accuracy on test data by Naive Bayes Classifier: 95.23809523809523\n"
          ]
        },
        {
          "output_type": "display_data",
          "data": {
            "text/plain": [
              "<Figure size 864x576 with 2 Axes>"
            ],
            "image/png": "[encoded data removed]"
          },
          "metadata": {}
        }
      ]
    },
    {
      "cell_type": "code",
      "source": [
        "from sklearn.tree import DecisionTreeClassifier"
      ],
      "metadata": {
        "id": "Mtp14mi1Y7UM"
      },
      "execution_count": null,
      "outputs": []
    },
    {
      "cell_type": "code",
      "source": [
        "dt = DecisionTreeClassifier(max_depth=3)\n",
        "dt.fit(updated_X_train, updated_Y_train)\n"
      ],
      "metadata": {
        "id": "dr-7lBg1Y1gF",
        "colab": {
          "base_uri": "https://localhost:8080/",
          "height": 74
        },
        "outputId": "86886794-0af4-4ede-af5c-ec0876c84481"
      },
      "execution_count": null,
      "outputs": [
        {
          "output_type": "execute_result",
          "data": {
            "text/plain": [
              "DecisionTreeClassifier(max_depth=3)"
            ],
            "text/html": [
              "<style>#sk-container-id-7 {color: black;background-color: white;}#sk-container-id-7 pre{padding: 0;}#sk-container-id-7 div.sk-toggleable {background-color: white;}#sk-container-id-7 label.sk-toggleable__label {cursor: pointer;display: block;width: 100%;margin-bottom: 0;padding: 0.3em;box-sizing: border-box;text-align: center;}#sk-container-id-7 label.sk-toggleable__label-arrow:before {content: \"▸\";float: left;margin-right: 0.25em;color: #696969;}#sk-container-id-7 label.sk-toggleable__label-arrow:hover:before {color: black;}#sk-container-id-7 div.sk-estimator:hover label.sk-toggleable__label-arrow:before {color: black;}#sk-container-id-7 div.sk-toggleable__content {max-height: 0;max-width: 0;overflow: hidden;text-align: left;background-color: #f0f8ff;}#sk-container-id-7 div.sk-toggleable__content pre {margin: 0.2em;color: black;border-radius: 0.25em;background-color: #f0f8ff;}#sk-container-id-7 input.sk-toggleable__control:checked~div.sk-toggleable__content {max-height: 200px;max-width: 100%;overflow: auto;}#sk-container-id-7 input.sk-toggleable__control:checked~label.sk-toggleable__label-arrow:before {content: \"▾\";}#sk-container-id-7 div.sk-estimator input.sk-toggleable__control:checked~label.sk-toggleable__label {background-color: #d4ebff;}#sk-container-id-7 div.sk-label input.sk-toggleable__control:checked~label.sk-toggleable__label {background-color: #d4ebff;}#sk-container-id-7 input.sk-hidden--visually {border: 0;clip: rect(1px 1px 1px 1px);clip: rect(1px, 1px, 1px, 1px);height: 1px;margin: -1px;overflow: hidden;padding: 0;position: absolute;width: 1px;}#sk-container-id-7 div.sk-estimator {font-family: monospace;background-color: #f0f8ff;border: 1px dotted black;border-radius: 0.25em;box-sizing: border-box;margin-bottom: 0.5em;}#sk-container-id-7 div.sk-estimator:hover {background-color: #d4ebff;}#sk-container-id-7 div.sk-parallel-item::after {content: \"\";width: 100%;border-bottom: 1px solid gray;flex-grow: 1;}#sk-container-id-7 div.sk-label:hover label.sk-toggleable__label {background-color: #d4ebff;}#sk-container-id-7 div.sk-serial::before {content: \"\";position: absolute;border-left: 1px solid gray;box-sizing: border-box;top: 0;bottom: 0;left: 50%;z-index: 0;}#sk-container-id-7 div.sk-serial {display: flex;flex-direction: column;align-items: center;background-color: white;padding-right: 0.2em;padding-left: 0.2em;position: relative;}#sk-container-id-7 div.sk-item {position: relative;z-index: 1;}#sk-container-id-7 div.sk-parallel {display: flex;align-items: stretch;justify-content: center;background-color: white;position: relative;}#sk-container-id-7 div.sk-item::before, #sk-container-id-7 div.sk-parallel-item::before {content: \"\";position: absolute;border-left: 1px solid gray;box-sizing: border-box;top: 0;bottom: 0;left: 50%;z-index: -1;}#sk-container-id-7 div.sk-parallel-item {display: flex;flex-direction: column;z-index: 1;position: relative;background-color: white;}#sk-container-id-7 div.sk-parallel-item:first-child::after {align-self: flex-end;width: 50%;}#sk-container-id-7 div.sk-parallel-item:last-child::after {align-self: flex-start;width: 50%;}#sk-container-id-7 div.sk-parallel-item:only-child::after {width: 0;}#sk-container-id-7 div.sk-dashed-wrapped {border: 1px dashed gray;margin: 0 0.4em 0.5em 0.4em;box-sizing: border-box;padding-bottom: 0.4em;background-color: white;}#sk-container-id-7 div.sk-label label {font-family: monospace;font-weight: bold;display: inline-block;line-height: 1.2em;}#sk-container-id-7 div.sk-label-container {text-align: center;}#sk-container-id-7 div.sk-container {/* jupyter's `normalize.less` sets `[hidden] { display: none; }` but bootstrap.min.css set `[hidden] { display: none !important; }` so we also need the `!important` here to be able to override the default hidden behavior on the sphinx rendered scikit-learn.org. See: https://github.com/scikit-learn/scikit-learn/issues/21755 */display: inline-block !important;position: relative;}#sk-container-id-7 div.sk-text-repr-fallback {display: none;}</style><div id=\"sk-container-id-7\" class=\"sk-top-container\"><div class=\"sk-text-repr-fallback\"><pre>DecisionTreeClassifier(max_depth=3)</pre><b>In a Jupyter environment, please rerun this cell to show the HTML representation or trust the notebook. <br />On GitHub, the HTML representation is unable to render, please try loading this page with nbviewer.org.</b></div><div class=\"sk-container\" hidden><div class=\"sk-item\"><div class=\"sk-estimator sk-toggleable\"><input class=\"sk-toggleable__control sk-hidden--visually\" id=\"sk-estimator-id-7\" type=\"checkbox\" checked><label for=\"sk-estimator-id-7\" class=\"sk-toggleable__label sk-toggleable__label-arrow\">DecisionTreeClassifier</label><div class=\"sk-toggleable__content\"><pre>DecisionTreeClassifier(max_depth=3)</pre></div></div></div></div></div>"
            ]
          },
          "metadata": {},
          "execution_count": 349
        }
      ]
    },
    {
      "cell_type": "code",
      "source": [
        "tree = DecisionTreeClassifier()\n",
        "tree.fit(updated_X_train, updated_Y_train)\n",
        "\n",
        "pred = tree.predict(X_test)\n",
        "acc = tree.score(X_test, Y_test)\n",
        "\n",
        "print(\"Acurray on test set: {:.2f}%\".format(acc*100))"
      ],
      "metadata": {
        "id": "o9ArnELzZuy2",
        "colab": {
          "base_uri": "https://localhost:8080/"
        },
        "outputId": "98219d44-f6f6-46bf-a285-bdadb2d5f7d2"
      },
      "execution_count": null,
      "outputs": [
        {
          "output_type": "stream",
          "name": "stdout",
          "text": [
            "Acurray on test set: 95.24%\n"
          ]
        }
      ]
    },
    {
      "cell_type": "markdown",
      "source": [
        "##Performance Evaluation"
      ],
      "metadata": {
        "id": "nvQ_quOFIyoZ"
      }
    },
    {
      "cell_type": "code",
      "source": [
        "\n",
        "from sklearn.preprocessing import StandardScaler\n",
        "from sklearn.linear_model import LogisticRegression\n",
        "from sklearn.tree import DecisionTreeClassifier\n",
        "from sklearn.ensemble import RandomForestClassifier\n",
        "from sklearn.discriminant_analysis import LinearDiscriminantAnalysis\n",
        "from sklearn.naive_bayes import GaussianNB\n",
        "from sklearn.svm import SVC\n",
        "\n",
        "models = []\n",
        "models.append(('LR', LogisticRegression()))\n",
        "models.append(('RF', RandomForestClassifier()))\n",
        "models.append(('SVM', SVC()))\n",
        "models.append(('XGB', XGBClassifier()))\n",
        "# evaluate each model in turn\n",
        "results = []\n",
        "names = []\n",
        "\n",
        "scoring = 'accuracy'\n",
        "for name, model in models:\n",
        "    kfold = model_selection.KFold(n_splits=10)\n",
        "    pipeline = make_pipeline(StandardScaler(), RandomForestClassifier())\n",
        "    pipeline.fit(updated_X_train, updated_Y_train)\n",
        "    cv_results = model_selection.cross_val_score(pipeline, updated_X_train, updated_Y_train, cv=kfold, scoring=scoring)\n",
        "    results.append(cv_results)\n",
        "    names.append(name)\n",
        "    msg = \"%s: %f (%f)\" % (name, cv_results.mean(), cv_results.std())\n",
        "    print(msg)\n",
        "\n",
        "\n",
        "# boxplot algorithm comparison\n",
        "fig = plt.figure()\n",
        "fig.suptitle('Algorithm Comparison')\n",
        "ax = fig.add_subplot(111)\n",
        "plt.boxplot(results)\n",
        "ax.set_xticklabels(names)\n",
        "plt.show()"
      ],
      "metadata": {
        "id": "nGfiK_XskPL8",
        "colab": {
          "base_uri": "https://localhost:8080/",
          "height": 363
        },
        "outputId": "67503adf-419b-46b8-e8c5-aea46c83b2ae"
      },
      "execution_count": null,
      "outputs": [
        {
          "output_type": "stream",
          "name": "stdout",
          "text": [
            "LR: 0.964431 (0.011649)\n",
            "RF: 0.964431 (0.011649)\n",
            "SVM: 0.964431 (0.011649)\n",
            "XGB: 0.964431 (0.011649)\n"
          ]
        },
        {
          "output_type": "display_data",
          "data": {
            "text/plain": [
              "<Figure size 432x288 with 1 Axes>"
            ],
            "image/png": "[encoded data removed]"
          },
          "metadata": {}
        }
      ]
    },
    {
      "cell_type": "code",
      "source": [
        "print(\"FINAL PERFORMANCE REPORT\")\n",
        "print(\"---------------------------\")\n",
        "print(\"Logistic Regression : \",format(lr.score(updated_X_test, updated_Y_test)*100))\n",
        "print(\"Decision Tree       : \",format(dt.score(updated_X_test, updated_Y_test)*100))\n",
        "print(\"XGBoost Classifier  : \",accuracy_score(updated_Y_test, y_pred_xgb)*100)\n",
        "print(\"SVM                 : \",accuracy_score(updated_Y_test, svm_predicted_linear)*100)"
      ],
      "metadata": {
        "id": "0a5a3NXDGdox",
        "colab": {
          "base_uri": "https://localhost:8080/"
        },
        "outputId": "25ce35a0-a89c-4991-fcee-3f90c9548321"
      },
      "execution_count": null,
      "outputs": [
        {
          "output_type": "stream",
          "name": "stdout",
          "text": [
            "FINAL PERFORMANCE REPORT\n",
            "---------------------------\n",
            "Logistic Regression :  97.61904761904762\n",
            "Decision Tree       :  9.523809523809524\n",
            "XGBoost Classifier  :  95.23809523809523\n",
            "SVM                 :  95.23809523809523\n"
          ]
        }
      ]
    }
  ]
}